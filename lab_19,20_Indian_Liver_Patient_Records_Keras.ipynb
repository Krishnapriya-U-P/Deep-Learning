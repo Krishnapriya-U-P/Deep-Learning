{
  "nbformat": 4,
  "nbformat_minor": 0,
  "metadata": {
    "colab": {
      "name": "lab_19,20 Indian Liver Patient Records Keras.ipynb",
      "provenance": [],
      "authorship_tag": "ABX9TyPcElDpb1AIhCyD5qjCAEen"
    },
    "kernelspec": {
      "name": "python3",
      "display_name": "Python 3"
    }
  },
  "cells": [
    {
      "cell_type": "code",
      "metadata": {
        "id": "gn2BCA4E_ANK",
        "colab_type": "code",
        "outputId": "239c9598-9c4e-4cf5-f932-3b561087299d",
        "colab": {
          "base_uri": "https://localhost:8080/",
          "height": 33
        }
      },
      "source": [
        "from google.colab import drive\n",
        "drive.mount('/content/drive')"
      ],
      "execution_count": 47,
      "outputs": [
        {
          "output_type": "stream",
          "text": [
            "Drive already mounted at /content/drive; to attempt to forcibly remount, call drive.mount(\"/content/drive\", force_remount=True).\n"
          ],
          "name": "stdout"
        }
      ]
    },
    {
      "cell_type": "code",
      "metadata": {
        "id": "QjUkAGQeBcdD",
        "colab_type": "code",
        "colab": {}
      },
      "source": [
        "import pandas as pd\n",
        "import numpy as np"
      ],
      "execution_count": 0,
      "outputs": []
    },
    {
      "cell_type": "code",
      "metadata": {
        "id": "mAZieTidBesO",
        "colab_type": "code",
        "colab": {}
      },
      "source": [
        "data = pd.read_csv('/content/drive/My Drive/AI/Deep Learning/Datasets/indian_liver_patient.csv')"
      ],
      "execution_count": 0,
      "outputs": []
    },
    {
      "cell_type": "code",
      "metadata": {
        "id": "C9d-dUUIBpyX",
        "colab_type": "code",
        "outputId": "559873f5-8b19-40c3-c853-4604217c69d5",
        "colab": {
          "base_uri": "https://localhost:8080/",
          "height": 284
        }
      },
      "source": [
        "data.info()"
      ],
      "execution_count": 50,
      "outputs": [
        {
          "output_type": "stream",
          "text": [
            "<class 'pandas.core.frame.DataFrame'>\n",
            "RangeIndex: 583 entries, 0 to 582\n",
            "Data columns (total 11 columns):\n",
            "Age                           583 non-null int64\n",
            "Gender                        583 non-null object\n",
            "Total_Bilirubin               583 non-null float64\n",
            "Direct_Bilirubin              583 non-null float64\n",
            "Alkaline_Phosphotase          583 non-null int64\n",
            "Alamine_Aminotransferase      583 non-null int64\n",
            "Aspartate_Aminotransferase    583 non-null int64\n",
            "Total_Protiens                583 non-null float64\n",
            "Albumin                       583 non-null float64\n",
            "Albumin_and_Globulin_Ratio    579 non-null float64\n",
            "Dataset                       583 non-null int64\n",
            "dtypes: float64(5), int64(5), object(1)\n",
            "memory usage: 50.2+ KB\n"
          ],
          "name": "stdout"
        }
      ]
    },
    {
      "cell_type": "code",
      "metadata": {
        "id": "CGQPqTo6BsN-",
        "colab_type": "code",
        "outputId": "0e79acc6-37d6-4f82-ec11-7ccdebe7405f",
        "colab": {
          "base_uri": "https://localhost:8080/",
          "height": 284
        }
      },
      "source": [
        "from sklearn import preprocessing\n",
        "le = preprocessing.LabelEncoder()\n",
        "le.fit(data['Gender'])\n",
        "data['Gender']=le.transform(data['Gender'])\n",
        "data.dropna(inplace=True)\n",
        "data['Albumin_and_Globulin_Ratio'] = data['Albumin_and_Globulin_Ratio'].dropna()\n",
        "data.info()"
      ],
      "execution_count": 51,
      "outputs": [
        {
          "output_type": "stream",
          "text": [
            "<class 'pandas.core.frame.DataFrame'>\n",
            "Int64Index: 579 entries, 0 to 582\n",
            "Data columns (total 11 columns):\n",
            "Age                           579 non-null int64\n",
            "Gender                        579 non-null int64\n",
            "Total_Bilirubin               579 non-null float64\n",
            "Direct_Bilirubin              579 non-null float64\n",
            "Alkaline_Phosphotase          579 non-null int64\n",
            "Alamine_Aminotransferase      579 non-null int64\n",
            "Aspartate_Aminotransferase    579 non-null int64\n",
            "Total_Protiens                579 non-null float64\n",
            "Albumin                       579 non-null float64\n",
            "Albumin_and_Globulin_Ratio    579 non-null float64\n",
            "Dataset                       579 non-null int64\n",
            "dtypes: float64(5), int64(6)\n",
            "memory usage: 54.3 KB\n"
          ],
          "name": "stdout"
        }
      ]
    },
    {
      "cell_type": "code",
      "metadata": {
        "id": "rBpds6mPBuDh",
        "colab_type": "code",
        "colab": {}
      },
      "source": [
        "y=data['Dataset']\n",
        "data.drop(['Dataset'],axis=1,inplace=True)"
      ],
      "execution_count": 0,
      "outputs": []
    },
    {
      "cell_type": "code",
      "metadata": {
        "id": "jot0DOdTBxJ0",
        "colab_type": "code",
        "colab": {}
      },
      "source": [
        "from sklearn.model_selection import train_test_split\n",
        "X_train, X_test, y_train, y_test = train_test_split(data, y, test_size=0.275, stratify=y,random_state=42)"
      ],
      "execution_count": 0,
      "outputs": []
    },
    {
      "cell_type": "markdown",
      "metadata": {
        "id": "mL5aT2uFB4NM",
        "colab_type": "text"
      },
      "source": [
        "# Perceptron"
      ]
    },
    {
      "cell_type": "code",
      "metadata": {
        "id": "mR0m94UPCDe3",
        "colab_type": "code",
        "colab": {}
      },
      "source": [
        "import tensorflow.compat.v1 as tf \n",
        "from tensorflow import keras"
      ],
      "execution_count": 0,
      "outputs": []
    },
    {
      "cell_type": "code",
      "metadata": {
        "id": "5QSOpaleByxw",
        "colab_type": "code",
        "colab": {}
      },
      "source": [
        "tf.set_random_seed(42) \n",
        "np.random.seed(42)"
      ],
      "execution_count": 0,
      "outputs": []
    },
    {
      "cell_type": "code",
      "metadata": {
        "id": "i-f4imcF8Vxp",
        "colab_type": "code",
        "colab": {}
      },
      "source": [
        "from sklearn.preprocessing import StandardScaler\n",
        "sc = StandardScaler()"
      ],
      "execution_count": 0,
      "outputs": []
    },
    {
      "cell_type": "code",
      "metadata": {
        "id": "3f-cu5e38dJ0",
        "colab_type": "code",
        "colab": {}
      },
      "source": [
        "sc.fit(X_train)\n",
        "X_train_std = sc.transform(X_train) \n",
        "X_test_std = sc.transform(X_test) "
      ],
      "execution_count": 0,
      "outputs": []
    },
    {
      "cell_type": "code",
      "metadata": {
        "id": "we_yHZVD8dGD",
        "colab_type": "code",
        "colab": {}
      },
      "source": [
        "model_perceptron = keras.models.Sequential() "
      ],
      "execution_count": 0,
      "outputs": []
    },
    {
      "cell_type": "code",
      "metadata": {
        "id": "-93LmuIh8c7v",
        "colab_type": "code",
        "colab": {}
      },
      "source": [
        "model_perceptron.add(keras.layers.Dense(units=1, activation='relu',input_shape= X_train.shape[1:]))\n",
        "model_perceptron.add(keras.layers.Dense(units=1, activation='sigmoid'))"
      ],
      "execution_count": 0,
      "outputs": []
    },
    {
      "cell_type": "code",
      "metadata": {
        "id": "ZwCvZR9u8c0l",
        "colab_type": "code",
        "colab": {}
      },
      "source": [
        "model_perceptron.compile(loss='binary_crossentropy', optimizer='adam',metrics=['accuracy']) "
      ],
      "execution_count": 0,
      "outputs": []
    },
    {
      "cell_type": "code",
      "metadata": {
        "id": "feGkCHN48cwR",
        "colab_type": "code",
        "colab": {
          "base_uri": "https://localhost:8080/",
          "height": 1000
        },
        "outputId": "e26118c3-6eb0-48ba-e74b-09c4d16c291a"
      },
      "source": [
        "model_perceptron.fit(x=X_train_std, y=y_train, validation_split=0.1,epochs=50, batch_size=16)"
      ],
      "execution_count": 61,
      "outputs": [
        {
          "output_type": "stream",
          "text": [
            "Train on 377 samples, validate on 42 samples\n",
            "Epoch 1/50\n",
            "377/377 [==============================] - 0s 435us/sample - loss: 0.8017 - acc: 0.3501 - val_loss: 0.7580 - val_acc: 0.4762\n",
            "Epoch 2/50\n",
            "377/377 [==============================] - 0s 90us/sample - loss: 0.7683 - acc: 0.4005 - val_loss: 0.7317 - val_acc: 0.4762\n",
            "Epoch 3/50\n",
            "377/377 [==============================] - 0s 92us/sample - loss: 0.7363 - acc: 0.4377 - val_loss: 0.7072 - val_acc: 0.5000\n",
            "Epoch 4/50\n",
            "377/377 [==============================] - 0s 98us/sample - loss: 0.7067 - acc: 0.4721 - val_loss: 0.6835 - val_acc: 0.5000\n",
            "Epoch 5/50\n",
            "377/377 [==============================] - 0s 92us/sample - loss: 0.6781 - acc: 0.4960 - val_loss: 0.6616 - val_acc: 0.6190\n",
            "Epoch 6/50\n",
            "377/377 [==============================] - 0s 109us/sample - loss: 0.6514 - acc: 0.5225 - val_loss: 0.6403 - val_acc: 0.6905\n",
            "Epoch 7/50\n",
            "377/377 [==============================] - 0s 104us/sample - loss: 0.6254 - acc: 0.5544 - val_loss: 0.6204 - val_acc: 0.7143\n",
            "Epoch 8/50\n",
            "377/377 [==============================] - 0s 102us/sample - loss: 0.6011 - acc: 0.5862 - val_loss: 0.6010 - val_acc: 0.7143\n",
            "Epoch 9/50\n",
            "377/377 [==============================] - 0s 103us/sample - loss: 0.5777 - acc: 0.6127 - val_loss: 0.5824 - val_acc: 0.7857\n",
            "Epoch 10/50\n",
            "377/377 [==============================] - 0s 98us/sample - loss: 0.5549 - acc: 0.6419 - val_loss: 0.5650 - val_acc: 0.7857\n",
            "Epoch 11/50\n",
            "377/377 [==============================] - 0s 89us/sample - loss: 0.5335 - acc: 0.6605 - val_loss: 0.5477 - val_acc: 0.8095\n",
            "Epoch 12/50\n",
            "377/377 [==============================] - 0s 92us/sample - loss: 0.5123 - acc: 0.6711 - val_loss: 0.5315 - val_acc: 0.8095\n",
            "Epoch 13/50\n",
            "377/377 [==============================] - 0s 104us/sample - loss: 0.4923 - acc: 0.6817 - val_loss: 0.5155 - val_acc: 0.8095\n",
            "Epoch 14/50\n",
            "377/377 [==============================] - 0s 92us/sample - loss: 0.4726 - acc: 0.6897 - val_loss: 0.5002 - val_acc: 0.8333\n",
            "Epoch 15/50\n",
            "377/377 [==============================] - 0s 94us/sample - loss: 0.4536 - acc: 0.6950 - val_loss: 0.4852 - val_acc: 0.8333\n",
            "Epoch 16/50\n",
            "377/377 [==============================] - 0s 95us/sample - loss: 0.4349 - acc: 0.6976 - val_loss: 0.4706 - val_acc: 0.8333\n",
            "Epoch 17/50\n",
            "377/377 [==============================] - 0s 103us/sample - loss: 0.4168 - acc: 0.6976 - val_loss: 0.4563 - val_acc: 0.8333\n",
            "Epoch 18/50\n",
            "377/377 [==============================] - 0s 109us/sample - loss: 0.3990 - acc: 0.7029 - val_loss: 0.4422 - val_acc: 0.8333\n",
            "Epoch 19/50\n",
            "377/377 [==============================] - 0s 100us/sample - loss: 0.3815 - acc: 0.7029 - val_loss: 0.4284 - val_acc: 0.8333\n",
            "Epoch 20/50\n",
            "377/377 [==============================] - 0s 94us/sample - loss: 0.3644 - acc: 0.7029 - val_loss: 0.4150 - val_acc: 0.8333\n",
            "Epoch 21/50\n",
            "377/377 [==============================] - 0s 111us/sample - loss: 0.3477 - acc: 0.7029 - val_loss: 0.4017 - val_acc: 0.8333\n",
            "Epoch 22/50\n",
            "377/377 [==============================] - 0s 88us/sample - loss: 0.3312 - acc: 0.7029 - val_loss: 0.3887 - val_acc: 0.8333\n",
            "Epoch 23/50\n",
            "377/377 [==============================] - 0s 90us/sample - loss: 0.3150 - acc: 0.7029 - val_loss: 0.3761 - val_acc: 0.8333\n",
            "Epoch 24/50\n",
            "377/377 [==============================] - 0s 88us/sample - loss: 0.2990 - acc: 0.7029 - val_loss: 0.3634 - val_acc: 0.8333\n",
            "Epoch 25/50\n",
            "377/377 [==============================] - 0s 95us/sample - loss: 0.2830 - acc: 0.7029 - val_loss: 0.3508 - val_acc: 0.8333\n",
            "Epoch 26/50\n",
            "377/377 [==============================] - 0s 88us/sample - loss: 0.2673 - acc: 0.7029 - val_loss: 0.3383 - val_acc: 0.8333\n",
            "Epoch 27/50\n",
            "377/377 [==============================] - 0s 85us/sample - loss: 0.2515 - acc: 0.7029 - val_loss: 0.3261 - val_acc: 0.8333\n",
            "Epoch 28/50\n",
            "377/377 [==============================] - 0s 95us/sample - loss: 0.2362 - acc: 0.7029 - val_loss: 0.3136 - val_acc: 0.8333\n",
            "Epoch 29/50\n",
            "377/377 [==============================] - 0s 98us/sample - loss: 0.2205 - acc: 0.7029 - val_loss: 0.3016 - val_acc: 0.8333\n",
            "Epoch 30/50\n",
            "377/377 [==============================] - 0s 90us/sample - loss: 0.2051 - acc: 0.7029 - val_loss: 0.2892 - val_acc: 0.8333\n",
            "Epoch 31/50\n",
            "377/377 [==============================] - 0s 92us/sample - loss: 0.1895 - acc: 0.7029 - val_loss: 0.2769 - val_acc: 0.8333\n",
            "Epoch 32/50\n",
            "377/377 [==============================] - 0s 92us/sample - loss: 0.1739 - acc: 0.7029 - val_loss: 0.2647 - val_acc: 0.8333\n",
            "Epoch 33/50\n",
            "377/377 [==============================] - 0s 116us/sample - loss: 0.1580 - acc: 0.7029 - val_loss: 0.2525 - val_acc: 0.8333\n",
            "Epoch 34/50\n",
            "377/377 [==============================] - 0s 91us/sample - loss: 0.1421 - acc: 0.7029 - val_loss: 0.2403 - val_acc: 0.8333\n",
            "Epoch 35/50\n",
            "377/377 [==============================] - 0s 99us/sample - loss: 0.1257 - acc: 0.7029 - val_loss: 0.2282 - val_acc: 0.8333\n",
            "Epoch 36/50\n",
            "377/377 [==============================] - 0s 91us/sample - loss: 0.1090 - acc: 0.7029 - val_loss: 0.2153 - val_acc: 0.8333\n",
            "Epoch 37/50\n",
            "377/377 [==============================] - 0s 97us/sample - loss: 0.0911 - acc: 0.7029 - val_loss: 0.2020 - val_acc: 0.8333\n",
            "Epoch 38/50\n",
            "377/377 [==============================] - 0s 103us/sample - loss: 0.0717 - acc: 0.7029 - val_loss: 0.1886 - val_acc: 0.8333\n",
            "Epoch 39/50\n",
            "377/377 [==============================] - 0s 93us/sample - loss: 0.0509 - acc: 0.7029 - val_loss: 0.1744 - val_acc: 0.8333\n",
            "Epoch 40/50\n",
            "377/377 [==============================] - 0s 93us/sample - loss: 0.0283 - acc: 0.7029 - val_loss: 0.1594 - val_acc: 0.8333\n",
            "Epoch 41/50\n",
            "377/377 [==============================] - 0s 91us/sample - loss: 0.0030 - acc: 0.7029 - val_loss: 0.1432 - val_acc: 0.8333\n",
            "Epoch 42/50\n",
            "377/377 [==============================] - 0s 93us/sample - loss: -0.0238 - acc: 0.7029 - val_loss: 0.1239 - val_acc: 0.8333\n",
            "Epoch 43/50\n",
            "377/377 [==============================] - 0s 103us/sample - loss: -0.0543 - acc: 0.7029 - val_loss: 0.1026 - val_acc: 0.8333\n",
            "Epoch 44/50\n",
            "377/377 [==============================] - 0s 100us/sample - loss: -0.0876 - acc: 0.7029 - val_loss: 0.0790 - val_acc: 0.8333\n",
            "Epoch 45/50\n",
            "377/377 [==============================] - 0s 100us/sample - loss: -0.1254 - acc: 0.7029 - val_loss: 0.0547 - val_acc: 0.8333\n",
            "Epoch 46/50\n",
            "377/377 [==============================] - 0s 100us/sample - loss: -0.1648 - acc: 0.7029 - val_loss: 0.0288 - val_acc: 0.8333\n",
            "Epoch 47/50\n",
            "377/377 [==============================] - 0s 81us/sample - loss: -0.2070 - acc: 0.7029 - val_loss: 0.0017 - val_acc: 0.8333\n",
            "Epoch 48/50\n",
            "377/377 [==============================] - 0s 96us/sample - loss: -0.2524 - acc: 0.7029 - val_loss: -0.0266 - val_acc: 0.8333\n",
            "Epoch 49/50\n",
            "377/377 [==============================] - 0s 93us/sample - loss: -0.3011 - acc: 0.7029 - val_loss: -0.0557 - val_acc: 0.8333\n",
            "Epoch 50/50\n",
            "377/377 [==============================] - 0s 99us/sample - loss: -0.3509 - acc: 0.7029 - val_loss: -0.0863 - val_acc: 0.8333\n"
          ],
          "name": "stdout"
        },
        {
          "output_type": "execute_result",
          "data": {
            "text/plain": [
              "<tensorflow.python.keras.callbacks.History at 0x7f4526ad1588>"
            ]
          },
          "metadata": {
            "tags": []
          },
          "execution_count": 61
        }
      ]
    },
    {
      "cell_type": "code",
      "metadata": {
        "id": "HcHA24S98csV",
        "colab_type": "code",
        "colab": {
          "base_uri": "https://localhost:8080/",
          "height": 67
        },
        "outputId": "a33d1226-0e14-4018-b405-4c2a0820ecca"
      },
      "source": [
        "test_loss, test_accuracy = model_perceptron.evaluate(x=X_test_std, y=y_test)\n",
        "print(test_loss, '\\n',test_accuracy)"
      ],
      "execution_count": 62,
      "outputs": [
        {
          "output_type": "stream",
          "text": [
            "160/160 [==============================] - 0s 112us/sample - loss: -0.3696 - acc: 0.7125\n",
            "-0.3695829510688782 \n",
            " 0.7125\n"
          ],
          "name": "stdout"
        }
      ]
    },
    {
      "cell_type": "markdown",
      "metadata": {
        "id": "edyk7muNCEyc",
        "colab_type": "text"
      },
      "source": [
        "# Multilayer Perceptron"
      ]
    },
    {
      "cell_type": "code",
      "metadata": {
        "id": "JpAP9Cs4CD6f",
        "colab_type": "code",
        "colab": {}
      },
      "source": [
        "model_MLP = keras.models.Sequential() "
      ],
      "execution_count": 0,
      "outputs": []
    },
    {
      "cell_type": "code",
      "metadata": {
        "id": "oJQlXHbH_4Ns",
        "colab_type": "code",
        "colab": {}
      },
      "source": [
        "model_MLP.add(keras.layers.Dense(units=10, activation='relu',input_shape= X_train.shape[1:]))\n",
        "model_MLP.add(keras.layers.Dense(units=5, activation='relu',input_shape= X_train.shape[1:]))"
      ],
      "execution_count": 0,
      "outputs": []
    },
    {
      "cell_type": "code",
      "metadata": {
        "id": "Mb7NCNsG_6RE",
        "colab_type": "code",
        "colab": {
          "base_uri": "https://localhost:8080/",
          "height": 251
        },
        "outputId": "87d2c97f-c552-497f-f4a0-d1966396b033"
      },
      "source": [
        " model_MLP.add(keras.layers.Dense(units=1, activation='sigmoid'))\n",
        " model_MLP.summary()"
      ],
      "execution_count": 65,
      "outputs": [
        {
          "output_type": "stream",
          "text": [
            "Model: \"sequential_3\"\n",
            "_________________________________________________________________\n",
            "Layer (type)                 Output Shape              Param #   \n",
            "=================================================================\n",
            "dense_13 (Dense)             (None, 10)                110       \n",
            "_________________________________________________________________\n",
            "dense_14 (Dense)             (None, 5)                 55        \n",
            "_________________________________________________________________\n",
            "dense_15 (Dense)             (None, 1)                 6         \n",
            "=================================================================\n",
            "Total params: 171\n",
            "Trainable params: 171\n",
            "Non-trainable params: 0\n",
            "_________________________________________________________________\n"
          ],
          "name": "stdout"
        }
      ]
    },
    {
      "cell_type": "code",
      "metadata": {
        "id": "yDqRHFlrAENK",
        "colab_type": "code",
        "colab": {}
      },
      "source": [
        "model_MLP.compile(loss='binary_crossentropy', optimizer='adam',metrics=['accuracy']) "
      ],
      "execution_count": 0,
      "outputs": []
    },
    {
      "cell_type": "code",
      "metadata": {
        "id": "94aFuP4eAIDB",
        "colab_type": "code",
        "colab": {
          "base_uri": "https://localhost:8080/",
          "height": 1000
        },
        "outputId": "83a03d25-a9a7-4e7a-9cf0-20cbee290606"
      },
      "source": [
        "model_MLP.fit(x=X_train_std, y=y_train, validation_split=0.1,epochs=50, batch_size=16)"
      ],
      "execution_count": 67,
      "outputs": [
        {
          "output_type": "stream",
          "text": [
            "Train on 377 samples, validate on 42 samples\n",
            "Epoch 1/50\n",
            "377/377 [==============================] - 0s 499us/sample - loss: 0.5667 - acc: 0.5862 - val_loss: 0.5532 - val_acc: 0.8333\n",
            "Epoch 2/50\n",
            "377/377 [==============================] - 0s 114us/sample - loss: 0.4489 - acc: 0.6950 - val_loss: 0.4599 - val_acc: 0.8333\n",
            "Epoch 3/50\n",
            "377/377 [==============================] - 0s 139us/sample - loss: 0.3170 - acc: 0.7029 - val_loss: 0.3560 - val_acc: 0.8333\n",
            "Epoch 4/50\n",
            "377/377 [==============================] - 0s 110us/sample - loss: 0.1647 - acc: 0.7029 - val_loss: 0.2387 - val_acc: 0.8333\n",
            "Epoch 5/50\n",
            "377/377 [==============================] - 0s 101us/sample - loss: -0.0048 - acc: 0.7029 - val_loss: 0.1143 - val_acc: 0.8333\n",
            "Epoch 6/50\n",
            "377/377 [==============================] - 0s 115us/sample - loss: -0.1901 - acc: 0.7029 - val_loss: -0.0166 - val_acc: 0.8333\n",
            "Epoch 7/50\n",
            "377/377 [==============================] - 0s 135us/sample - loss: -0.3880 - acc: 0.7029 - val_loss: -0.1566 - val_acc: 0.8333\n",
            "Epoch 8/50\n",
            "377/377 [==============================] - 0s 110us/sample - loss: -0.6050 - acc: 0.7029 - val_loss: -0.3025 - val_acc: 0.8333\n",
            "Epoch 9/50\n",
            "377/377 [==============================] - 0s 117us/sample - loss: -0.8498 - acc: 0.7029 - val_loss: -0.4576 - val_acc: 0.8333\n",
            "Epoch 10/50\n",
            "377/377 [==============================] - 0s 111us/sample - loss: -1.1166 - acc: 0.7029 - val_loss: -0.6291 - val_acc: 0.8333\n",
            "Epoch 11/50\n",
            "377/377 [==============================] - 0s 144us/sample - loss: -1.4114 - acc: 0.7029 - val_loss: -0.8171 - val_acc: 0.8333\n",
            "Epoch 12/50\n",
            "377/377 [==============================] - 0s 126us/sample - loss: -1.7717 - acc: 0.7029 - val_loss: -1.0180 - val_acc: 0.8333\n",
            "Epoch 13/50\n",
            "377/377 [==============================] - 0s 113us/sample - loss: -2.1812 - acc: 0.7029 - val_loss: -1.2690 - val_acc: 0.8333\n",
            "Epoch 14/50\n",
            "377/377 [==============================] - 0s 114us/sample - loss: -2.6845 - acc: 0.7029 - val_loss: -1.5640 - val_acc: 0.8333\n",
            "Epoch 15/50\n",
            "377/377 [==============================] - 0s 108us/sample - loss: -3.2809 - acc: 0.7029 - val_loss: -1.9239 - val_acc: 0.8333\n",
            "Epoch 16/50\n",
            "377/377 [==============================] - 0s 115us/sample - loss: -3.9979 - acc: 0.7029 - val_loss: -2.3565 - val_acc: 0.8333\n",
            "Epoch 17/50\n",
            "377/377 [==============================] - 0s 119us/sample - loss: -4.8795 - acc: 0.7029 - val_loss: -2.8803 - val_acc: 0.8333\n",
            "Epoch 18/50\n",
            "377/377 [==============================] - 0s 120us/sample - loss: -5.9175 - acc: 0.7029 - val_loss: -3.5452 - val_acc: 0.8333\n",
            "Epoch 19/50\n",
            "377/377 [==============================] - 0s 118us/sample - loss: -7.1850 - acc: 0.7029 - val_loss: -4.2701 - val_acc: 0.8333\n",
            "Epoch 20/50\n",
            "377/377 [==============================] - 0s 115us/sample - loss: -8.5879 - acc: 0.7029 - val_loss: -5.1847 - val_acc: 0.8333\n",
            "Epoch 21/50\n",
            "377/377 [==============================] - 0s 148us/sample - loss: -10.2829 - acc: 0.7029 - val_loss: -6.2059 - val_acc: 0.8333\n",
            "Epoch 22/50\n",
            "377/377 [==============================] - 0s 108us/sample - loss: -12.2323 - acc: 0.7029 - val_loss: -7.4343 - val_acc: 0.8333\n",
            "Epoch 23/50\n",
            "377/377 [==============================] - 0s 111us/sample - loss: -14.4801 - acc: 0.7029 - val_loss: -8.8126 - val_acc: 0.8333\n",
            "Epoch 24/50\n",
            "377/377 [==============================] - 0s 133us/sample - loss: -16.9771 - acc: 0.7029 - val_loss: -10.3342 - val_acc: 0.8333\n",
            "Epoch 25/50\n",
            "377/377 [==============================] - 0s 121us/sample - loss: -19.7414 - acc: 0.7029 - val_loss: -12.0796 - val_acc: 0.8333\n",
            "Epoch 26/50\n",
            "377/377 [==============================] - 0s 144us/sample - loss: -22.8035 - acc: 0.7029 - val_loss: -14.0436 - val_acc: 0.8333\n",
            "Epoch 27/50\n",
            "377/377 [==============================] - 0s 121us/sample - loss: -26.2009 - acc: 0.7029 - val_loss: -16.2212 - val_acc: 0.8333\n",
            "Epoch 28/50\n",
            "377/377 [==============================] - 0s 120us/sample - loss: -29.9630 - acc: 0.7029 - val_loss: -18.5274 - val_acc: 0.8333\n",
            "Epoch 29/50\n",
            "377/377 [==============================] - 0s 122us/sample - loss: -34.0180 - acc: 0.7029 - val_loss: -21.0306 - val_acc: 0.8333\n",
            "Epoch 30/50\n",
            "377/377 [==============================] - 0s 127us/sample - loss: -38.3198 - acc: 0.7029 - val_loss: -23.8979 - val_acc: 0.8333\n",
            "Epoch 31/50\n",
            "377/377 [==============================] - 0s 132us/sample - loss: -43.1374 - acc: 0.7029 - val_loss: -26.8424 - val_acc: 0.8333\n",
            "Epoch 32/50\n",
            "377/377 [==============================] - 0s 112us/sample - loss: -48.2951 - acc: 0.7029 - val_loss: -30.0903 - val_acc: 0.8333\n",
            "Epoch 33/50\n",
            "377/377 [==============================] - 0s 106us/sample - loss: -53.7182 - acc: 0.7029 - val_loss: -33.6799 - val_acc: 0.8333\n",
            "Epoch 34/50\n",
            "377/377 [==============================] - 0s 128us/sample - loss: -59.6282 - acc: 0.7029 - val_loss: -37.3775 - val_acc: 0.8333\n",
            "Epoch 35/50\n",
            "377/377 [==============================] - 0s 132us/sample - loss: -65.7126 - acc: 0.7029 - val_loss: -41.5658 - val_acc: 0.8333\n",
            "Epoch 36/50\n",
            "377/377 [==============================] - 0s 113us/sample - loss: -72.4994 - acc: 0.7029 - val_loss: -45.5272 - val_acc: 0.8333\n",
            "Epoch 37/50\n",
            "377/377 [==============================] - 0s 105us/sample - loss: -79.0565 - acc: 0.7029 - val_loss: -50.0884 - val_acc: 0.8333\n",
            "Epoch 38/50\n",
            "377/377 [==============================] - 0s 108us/sample - loss: -86.4600 - acc: 0.7029 - val_loss: -54.7784 - val_acc: 0.8333\n",
            "Epoch 39/50\n",
            "377/377 [==============================] - 0s 111us/sample - loss: -93.9731 - acc: 0.7029 - val_loss: -59.8115 - val_acc: 0.8333\n",
            "Epoch 40/50\n",
            "377/377 [==============================] - 0s 111us/sample - loss: -102.2510 - acc: 0.7029 - val_loss: -64.8775 - val_acc: 0.8333\n",
            "Epoch 41/50\n",
            "377/377 [==============================] - 0s 100us/sample - loss: -110.7373 - acc: 0.7029 - val_loss: -70.3290 - val_acc: 0.8333\n",
            "Epoch 42/50\n",
            "377/377 [==============================] - 0s 103us/sample - loss: -119.5061 - acc: 0.7029 - val_loss: -76.3136 - val_acc: 0.8333\n",
            "Epoch 43/50\n",
            "377/377 [==============================] - 0s 103us/sample - loss: -129.0157 - acc: 0.7029 - val_loss: -82.1455 - val_acc: 0.8333\n",
            "Epoch 44/50\n",
            "377/377 [==============================] - 0s 102us/sample - loss: -138.5727 - acc: 0.7029 - val_loss: -88.2713 - val_acc: 0.8333\n",
            "Epoch 45/50\n",
            "377/377 [==============================] - 0s 114us/sample - loss: -148.6093 - acc: 0.7029 - val_loss: -94.7389 - val_acc: 0.8333\n",
            "Epoch 46/50\n",
            "377/377 [==============================] - 0s 108us/sample - loss: -159.1870 - acc: 0.7029 - val_loss: -101.6620 - val_acc: 0.8333\n",
            "Epoch 47/50\n",
            "377/377 [==============================] - 0s 98us/sample - loss: -170.3182 - acc: 0.7029 - val_loss: -109.0712 - val_acc: 0.8333\n",
            "Epoch 48/50\n",
            "377/377 [==============================] - 0s 104us/sample - loss: -182.2198 - acc: 0.7029 - val_loss: -116.2571 - val_acc: 0.8333\n",
            "Epoch 49/50\n",
            "377/377 [==============================] - 0s 103us/sample - loss: -194.1322 - acc: 0.7029 - val_loss: -124.0670 - val_acc: 0.8333\n",
            "Epoch 50/50\n",
            "377/377 [==============================] - 0s 124us/sample - loss: -206.6372 - acc: 0.7029 - val_loss: -132.2207 - val_acc: 0.8333\n"
          ],
          "name": "stdout"
        },
        {
          "output_type": "execute_result",
          "data": {
            "text/plain": [
              "<tensorflow.python.keras.callbacks.History at 0x7f4526a22160>"
            ]
          },
          "metadata": {
            "tags": []
          },
          "execution_count": 67
        }
      ]
    },
    {
      "cell_type": "code",
      "metadata": {
        "id": "xCLmw3lVAJgc",
        "colab_type": "code",
        "colab": {
          "base_uri": "https://localhost:8080/",
          "height": 33
        },
        "outputId": "bc4cdab5-5089-49b2-df2c-0246272f76ed"
      },
      "source": [
        "test_loss, test_accuracy = model_MLP.evaluate(x=X_test_std, y=y_test) \n"
      ],
      "execution_count": 68,
      "outputs": [
        {
          "output_type": "stream",
          "text": [
            "160/160 [==============================] - 0s 64us/sample - loss: -209.7590 - acc: 0.7125\n"
          ],
          "name": "stdout"
        }
      ]
    },
    {
      "cell_type": "code",
      "metadata": {
        "id": "6JFDCLBkAZRA",
        "colab_type": "code",
        "colab": {
          "base_uri": "https://localhost:8080/",
          "height": 50
        },
        "outputId": "77878f6d-d788-4cf9-9026-d616bb6d8f3e"
      },
      "source": [
        "\n",
        "print(test_loss, '\\n',test_accuracy)"
      ],
      "execution_count": 69,
      "outputs": [
        {
          "output_type": "stream",
          "text": [
            "-209.7589599609375 \n",
            " 0.7125\n"
          ],
          "name": "stdout"
        }
      ]
    },
    {
      "cell_type": "code",
      "metadata": {
        "id": "UrxfOGS5AZpD",
        "colab_type": "code",
        "colab": {}
      },
      "source": [
        ""
      ],
      "execution_count": 0,
      "outputs": []
    }
  ]
}