{
  "nbformat": 4,
  "nbformat_minor": 0,
  "metadata": {
    "colab": {
      "name": "lab_15 MLP for regression problem using Keras - Boston House price.ipynb",
      "provenance": [],
      "authorship_tag": "ABX9TyMl36oODYFnfQOPNmTQo0BF"
    },
    "kernelspec": {
      "name": "python3",
      "display_name": "Python 3"
    }
  },
  "cells": [
    {
      "cell_type": "code",
      "metadata": {
        "id": "Qs7-SgVlKUhQ",
        "colab_type": "code",
        "colab": {}
      },
      "source": [
        "import numpy as np\n",
        "import pandas as pd\n",
        "import matplotlib.pyplot as plt"
      ],
      "execution_count": 0,
      "outputs": []
    },
    {
      "cell_type": "code",
      "metadata": {
        "id": "DpZ9zw8FKi07",
        "colab_type": "code",
        "colab": {}
      },
      "source": [
        "\n",
        "from sklearn.datasets import load_boston\n",
        "\n",
        "import tensorflow.compat.v1 as tf\n",
        "from tensorflow import keras\n",
        "\n",
        "tf.set_random_seed(42)\n",
        "np.random.seed(42)\n",
        "\n",
        "bostonData = load_boston()\n",
        "\n",
        "X = bostonData.data\n",
        "y = bostonData.target"
      ],
      "execution_count": 0,
      "outputs": []
    },
    {
      "cell_type": "code",
      "metadata": {
        "id": "N-P883QDKxKm",
        "colab_type": "code",
        "colab": {}
      },
      "source": [
        "\n",
        "from sklearn.model_selection import train_test_split\n",
        "X_train, X_test, y_train, y_test = train_test_split(X, y, test_size=0.2,random_state=42)\n",
        "\n",
        "from sklearn.preprocessing import StandardScaler\n",
        "sc = StandardScaler()\n",
        "\n",
        "sc.fit(X_train)\n",
        "\n",
        "X_train_std = sc.transform(X_train)\n",
        "X_test_std = sc.transform(X_test)"
      ],
      "execution_count": 0,
      "outputs": []
    },
    {
      "cell_type": "code",
      "metadata": {
        "id": "D5wH19j7LUgP",
        "colab_type": "code",
        "outputId": "c80d29d0-3480-4a34-dbf6-066a29be1492",
        "colab": {
          "base_uri": "https://localhost:8080/",
          "height": 217
        }
      },
      "source": [
        "\n",
        "model_MLP = keras.models.Sequential()\n",
        "\n",
        "model_MLP.add(keras.layers.Dense(units=5, activation='relu', input_shape=X_train.shape[1:]))\n",
        "\n",
        "model_MLP.add(keras.layers.Dense(units=1, activation='linear'))\n",
        "\n",
        "model_MLP.summary()"
      ],
      "execution_count": 9,
      "outputs": [
        {
          "output_type": "stream",
          "text": [
            "Model: \"sequential_1\"\n",
            "_________________________________________________________________\n",
            "Layer (type)                 Output Shape              Param #   \n",
            "=================================================================\n",
            "dense_2 (Dense)              (None, 5)                 70        \n",
            "_________________________________________________________________\n",
            "dense_3 (Dense)              (None, 1)                 6         \n",
            "=================================================================\n",
            "Total params: 76\n",
            "Trainable params: 76\n",
            "Non-trainable params: 0\n",
            "_________________________________________________________________\n"
          ],
          "name": "stdout"
        }
      ]
    },
    {
      "cell_type": "code",
      "metadata": {
        "id": "gNtV3gUtLaf6",
        "colab_type": "code",
        "colab": {}
      },
      "source": [
        "model_MLP.compile(loss='mse', optimizer='adam', metrics=['mae'])"
      ],
      "execution_count": 0,
      "outputs": []
    },
    {
      "cell_type": "code",
      "metadata": {
        "id": "vMnTM7EuLhXF",
        "colab_type": "code",
        "outputId": "90074e43-8ea1-4f53-c842-57fa6b47ec6c",
        "colab": {
          "base_uri": "https://localhost:8080/",
          "height": 1000
        }
      },
      "source": [
        "\n",
        "model_MLP.fit(x=X_train_std, y=y_train, validation_split=0.1,epochs=50, batch_size=16)"
      ],
      "execution_count": 11,
      "outputs": [
        {
          "output_type": "stream",
          "text": [
            "Train on 363 samples, validate on 41 samples\n",
            "Epoch 1/50\n",
            "363/363 [==============================] - 0s 662us/sample - loss: 588.4619 - mean_absolute_error: 22.5659 - val_loss: 578.3743 - val_mean_absolute_error: 22.6678\n",
            "Epoch 2/50\n",
            "363/363 [==============================] - 0s 79us/sample - loss: 580.8372 - mean_absolute_error: 22.4152 - val_loss: 570.6222 - val_mean_absolute_error: 22.5137\n",
            "Epoch 3/50\n",
            "363/363 [==============================] - 0s 98us/sample - loss: 572.8176 - mean_absolute_error: 22.2614 - val_loss: 563.1010 - val_mean_absolute_error: 22.3635\n",
            "Epoch 4/50\n",
            "363/363 [==============================] - 0s 77us/sample - loss: 564.8013 - mean_absolute_error: 22.1028 - val_loss: 555.0960 - val_mean_absolute_error: 22.2043\n",
            "Epoch 5/50\n",
            "363/363 [==============================] - 0s 75us/sample - loss: 556.2093 - mean_absolute_error: 21.9349 - val_loss: 546.7368 - val_mean_absolute_error: 22.0370\n",
            "Epoch 6/50\n",
            "363/363 [==============================] - 0s 76us/sample - loss: 547.1287 - mean_absolute_error: 21.7595 - val_loss: 538.1358 - val_mean_absolute_error: 21.8646\n",
            "Epoch 7/50\n",
            "363/363 [==============================] - 0s 74us/sample - loss: 537.6273 - mean_absolute_error: 21.5726 - val_loss: 528.9784 - val_mean_absolute_error: 21.6791\n",
            "Epoch 8/50\n",
            "363/363 [==============================] - 0s 82us/sample - loss: 527.4833 - mean_absolute_error: 21.3705 - val_loss: 519.5493 - val_mean_absolute_error: 21.4859\n",
            "Epoch 9/50\n",
            "363/363 [==============================] - 0s 93us/sample - loss: 517.1887 - mean_absolute_error: 21.1615 - val_loss: 509.2838 - val_mean_absolute_error: 21.2734\n",
            "Epoch 10/50\n",
            "363/363 [==============================] - 0s 83us/sample - loss: 505.8599 - mean_absolute_error: 20.9334 - val_loss: 499.3229 - val_mean_absolute_error: 21.0642\n",
            "Epoch 11/50\n",
            "363/363 [==============================] - 0s 96us/sample - loss: 494.6200 - mean_absolute_error: 20.7001 - val_loss: 488.3486 - val_mean_absolute_error: 20.8303\n",
            "Epoch 12/50\n",
            "363/363 [==============================] - 0s 88us/sample - loss: 482.6220 - mean_absolute_error: 20.4457 - val_loss: 477.0986 - val_mean_absolute_error: 20.5855\n",
            "Epoch 13/50\n",
            "363/363 [==============================] - 0s 86us/sample - loss: 470.0310 - mean_absolute_error: 20.1791 - val_loss: 465.5814 - val_mean_absolute_error: 20.3281\n",
            "Epoch 14/50\n",
            "363/363 [==============================] - 0s 82us/sample - loss: 457.2787 - mean_absolute_error: 19.8953 - val_loss: 453.2268 - val_mean_absolute_error: 20.0467\n",
            "Epoch 15/50\n",
            "363/363 [==============================] - 0s 115us/sample - loss: 443.6992 - mean_absolute_error: 19.5860 - val_loss: 440.8019 - val_mean_absolute_error: 19.7560\n",
            "Epoch 16/50\n",
            "363/363 [==============================] - 0s 89us/sample - loss: 429.7608 - mean_absolute_error: 19.2643 - val_loss: 427.5206 - val_mean_absolute_error: 19.4347\n",
            "Epoch 17/50\n",
            "363/363 [==============================] - 0s 85us/sample - loss: 415.3944 - mean_absolute_error: 18.9160 - val_loss: 413.2511 - val_mean_absolute_error: 19.0768\n",
            "Epoch 18/50\n",
            "363/363 [==============================] - 0s 83us/sample - loss: 399.8804 - mean_absolute_error: 18.5254 - val_loss: 399.2919 - val_mean_absolute_error: 18.7136\n",
            "Epoch 19/50\n",
            "363/363 [==============================] - 0s 77us/sample - loss: 384.3579 - mean_absolute_error: 18.1181 - val_loss: 384.6949 - val_mean_absolute_error: 18.3158\n",
            "Epoch 20/50\n",
            "363/363 [==============================] - 0s 89us/sample - loss: 368.5964 - mean_absolute_error: 17.6796 - val_loss: 369.6688 - val_mean_absolute_error: 17.8861\n",
            "Epoch 21/50\n",
            "363/363 [==============================] - 0s 90us/sample - loss: 352.4520 - mean_absolute_error: 17.2318 - val_loss: 354.7636 - val_mean_absolute_error: 17.4363\n",
            "Epoch 22/50\n",
            "363/363 [==============================] - 0s 81us/sample - loss: 336.5693 - mean_absolute_error: 16.7442 - val_loss: 340.1660 - val_mean_absolute_error: 16.9737\n",
            "Epoch 23/50\n",
            "363/363 [==============================] - 0s 96us/sample - loss: 320.9861 - mean_absolute_error: 16.2457 - val_loss: 326.2141 - val_mean_absolute_error: 16.5038\n",
            "Epoch 24/50\n",
            "363/363 [==============================] - 0s 83us/sample - loss: 306.2683 - mean_absolute_error: 15.7295 - val_loss: 312.7406 - val_mean_absolute_error: 16.0165\n",
            "Epoch 25/50\n",
            "363/363 [==============================] - 0s 84us/sample - loss: 292.0697 - mean_absolute_error: 15.2332 - val_loss: 300.2959 - val_mean_absolute_error: 15.5381\n",
            "Epoch 26/50\n",
            "363/363 [==============================] - 0s 81us/sample - loss: 278.8665 - mean_absolute_error: 14.7702 - val_loss: 288.6955 - val_mean_absolute_error: 15.0676\n",
            "Epoch 27/50\n",
            "363/363 [==============================] - 0s 87us/sample - loss: 266.3744 - mean_absolute_error: 14.3307 - val_loss: 278.0803 - val_mean_absolute_error: 14.6593\n",
            "Epoch 28/50\n",
            "363/363 [==============================] - 0s 96us/sample - loss: 254.7643 - mean_absolute_error: 13.9216 - val_loss: 268.2067 - val_mean_absolute_error: 14.2574\n",
            "Epoch 29/50\n",
            "363/363 [==============================] - 0s 81us/sample - loss: 244.0225 - mean_absolute_error: 13.5524 - val_loss: 259.1122 - val_mean_absolute_error: 13.8561\n",
            "Epoch 30/50\n",
            "363/363 [==============================] - 0s 86us/sample - loss: 234.0341 - mean_absolute_error: 13.2058 - val_loss: 251.1596 - val_mean_absolute_error: 13.4854\n",
            "Epoch 31/50\n",
            "363/363 [==============================] - 0s 81us/sample - loss: 225.1387 - mean_absolute_error: 12.9156 - val_loss: 243.6732 - val_mean_absolute_error: 13.1225\n",
            "Epoch 32/50\n",
            "363/363 [==============================] - 0s 80us/sample - loss: 216.8731 - mean_absolute_error: 12.6168 - val_loss: 236.9598 - val_mean_absolute_error: 12.7830\n",
            "Epoch 33/50\n",
            "363/363 [==============================] - 0s 76us/sample - loss: 209.0820 - mean_absolute_error: 12.3441 - val_loss: 230.9252 - val_mean_absolute_error: 12.4632\n",
            "Epoch 34/50\n",
            "363/363 [==============================] - 0s 77us/sample - loss: 202.1186 - mean_absolute_error: 12.0849 - val_loss: 224.9263 - val_mean_absolute_error: 12.1259\n",
            "Epoch 35/50\n",
            "363/363 [==============================] - 0s 93us/sample - loss: 195.4009 - mean_absolute_error: 11.8284 - val_loss: 219.6481 - val_mean_absolute_error: 11.8259\n",
            "Epoch 36/50\n",
            "363/363 [==============================] - 0s 90us/sample - loss: 189.2888 - mean_absolute_error: 11.5920 - val_loss: 214.8609 - val_mean_absolute_error: 11.5591\n",
            "Epoch 37/50\n",
            "363/363 [==============================] - 0s 81us/sample - loss: 183.5962 - mean_absolute_error: 11.3871 - val_loss: 210.2889 - val_mean_absolute_error: 11.3255\n",
            "Epoch 38/50\n",
            "363/363 [==============================] - 0s 85us/sample - loss: 178.1167 - mean_absolute_error: 11.1750 - val_loss: 206.1295 - val_mean_absolute_error: 11.1284\n",
            "Epoch 39/50\n",
            "363/363 [==============================] - 0s 83us/sample - loss: 173.0557 - mean_absolute_error: 10.9687 - val_loss: 202.0708 - val_mean_absolute_error: 10.9392\n",
            "Epoch 40/50\n",
            "363/363 [==============================] - 0s 86us/sample - loss: 168.2208 - mean_absolute_error: 10.7661 - val_loss: 198.1216 - val_mean_absolute_error: 10.7343\n",
            "Epoch 41/50\n",
            "363/363 [==============================] - 0s 82us/sample - loss: 163.4223 - mean_absolute_error: 10.5666 - val_loss: 194.4993 - val_mean_absolute_error: 10.5586\n",
            "Epoch 42/50\n",
            "363/363 [==============================] - 0s 78us/sample - loss: 158.9718 - mean_absolute_error: 10.3847 - val_loss: 191.0283 - val_mean_absolute_error: 10.3953\n",
            "Epoch 43/50\n",
            "363/363 [==============================] - 0s 84us/sample - loss: 154.7424 - mean_absolute_error: 10.1922 - val_loss: 187.5318 - val_mean_absolute_error: 10.2462\n",
            "Epoch 44/50\n",
            "363/363 [==============================] - 0s 87us/sample - loss: 150.5574 - mean_absolute_error: 10.0007 - val_loss: 184.1582 - val_mean_absolute_error: 10.1083\n",
            "Epoch 45/50\n",
            "363/363 [==============================] - 0s 92us/sample - loss: 146.6777 - mean_absolute_error: 9.8235 - val_loss: 180.7755 - val_mean_absolute_error: 9.9980\n",
            "Epoch 46/50\n",
            "363/363 [==============================] - 0s 96us/sample - loss: 142.8279 - mean_absolute_error: 9.6497 - val_loss: 177.5468 - val_mean_absolute_error: 9.8897\n",
            "Epoch 47/50\n",
            "363/363 [==============================] - 0s 78us/sample - loss: 139.2147 - mean_absolute_error: 9.4829 - val_loss: 174.3465 - val_mean_absolute_error: 9.7777\n",
            "Epoch 48/50\n",
            "363/363 [==============================] - 0s 78us/sample - loss: 135.6901 - mean_absolute_error: 9.3110 - val_loss: 171.2626 - val_mean_absolute_error: 9.6675\n",
            "Epoch 49/50\n",
            "363/363 [==============================] - 0s 79us/sample - loss: 132.3153 - mean_absolute_error: 9.1582 - val_loss: 168.2948 - val_mean_absolute_error: 9.5722\n",
            "Epoch 50/50\n",
            "363/363 [==============================] - 0s 82us/sample - loss: 129.1854 - mean_absolute_error: 9.0018 - val_loss: 165.2364 - val_mean_absolute_error: 9.4798\n"
          ],
          "name": "stdout"
        },
        {
          "output_type": "execute_result",
          "data": {
            "text/plain": [
              "<tensorflow.python.keras.callbacks.History at 0x7f2c74dc7c50>"
            ]
          },
          "metadata": {
            "tags": []
          },
          "execution_count": 11
        }
      ]
    },
    {
      "cell_type": "code",
      "metadata": {
        "id": "7eVDwQ07Lywx",
        "colab_type": "code",
        "outputId": "52bd237d-4563-4229-d8c9-965539670780",
        "colab": {
          "base_uri": "https://localhost:8080/",
          "height": 33
        }
      },
      "source": [
        "test_loss, test_accuracy = model_MLP.evaluate(x=X_test_std, y=y_test)"
      ],
      "execution_count": 12,
      "outputs": [
        {
          "output_type": "stream",
          "text": [
            "102/102 [==============================] - 0s 190us/sample - loss: 137.6374 - mean_absolute_error: 8.9613\n"
          ],
          "name": "stdout"
        }
      ]
    },
    {
      "cell_type": "code",
      "metadata": {
        "id": "uqco3kDOL4OX",
        "colab_type": "code",
        "colab": {
          "base_uri": "https://localhost:8080/",
          "height": 33
        },
        "outputId": "d3ab28d6-1edb-4686-b7e7-9ac22ed2a3ee"
      },
      "source": [
        "print(test_loss, test_accuracy)"
      ],
      "execution_count": 13,
      "outputs": [
        {
          "output_type": "stream",
          "text": [
            "137.63740330116423 8.961313\n"
          ],
          "name": "stdout"
        }
      ]
    },
    {
      "cell_type": "code",
      "metadata": {
        "id": "juGXnTqNL7L7",
        "colab_type": "code",
        "colab": {}
      },
      "source": [
        ""
      ],
      "execution_count": 0,
      "outputs": []
    }
  ]
}