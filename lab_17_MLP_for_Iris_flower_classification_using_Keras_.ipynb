{
  "nbformat": 4,
  "nbformat_minor": 0,
  "metadata": {
    "colab": {
      "name": "lab_17  MLP for Iris flower classification using Keras .ipynb",
      "provenance": [],
      "authorship_tag": "ABX9TyPL3hzg3+6AsqY5xjDrQK6H"
    },
    "kernelspec": {
      "name": "python3",
      "display_name": "Python 3"
    }
  },
  "cells": [
    {
      "cell_type": "code",
      "metadata": {
        "id": "zzPuPrH840fC",
        "colab_type": "code",
        "colab": {}
      },
      "source": [
        "import numpy as np\n",
        "import pandas as pd\n",
        "import matplotlib.pyplot as plt"
      ],
      "execution_count": 0,
      "outputs": []
    },
    {
      "cell_type": "code",
      "metadata": {
        "id": "YBFzsrwr5BKJ",
        "colab_type": "code",
        "colab": {}
      },
      "source": [
        "\n",
        "from sklearn.datasets import load_iris"
      ],
      "execution_count": 0,
      "outputs": []
    },
    {
      "cell_type": "code",
      "metadata": {
        "id": "zPXoWOvt5DEJ",
        "colab_type": "code",
        "colab": {
          "base_uri": "https://localhost:8080/",
          "height": 62
        },
        "outputId": "4dd0af58-d267-471f-cf00-1a01323f2106"
      },
      "source": [
        "\n",
        "import tensorflow as tf\n",
        "from tensorflow import keras"
      ],
      "execution_count": 3,
      "outputs": [
        {
          "output_type": "display_data",
          "data": {
            "text/html": [
              "<p style=\"color: red;\">\n",
              "The default version of TensorFlow in Colab will soon switch to TensorFlow 2.x.<br>\n",
              "We recommend you <a href=\"https://www.tensorflow.org/guide/migrate\" target=\"_blank\">upgrade</a> now \n",
              "or ensure your notebook will continue to use TensorFlow 1.x via the <code>%tensorflow_version 1.x</code> magic:\n",
              "<a href=\"https://colab.research.google.com/notebooks/tensorflow_version.ipynb\" target=\"_blank\">more info</a>.</p>\n"
            ],
            "text/plain": [
              "<IPython.core.display.HTML object>"
            ]
          },
          "metadata": {
            "tags": []
          }
        }
      ]
    },
    {
      "cell_type": "code",
      "metadata": {
        "id": "F-i4iQfL5E8h",
        "colab_type": "code",
        "colab": {}
      },
      "source": [
        "\n",
        "tf.set_random_seed(42)\n",
        "np.random.seed(42)"
      ],
      "execution_count": 0,
      "outputs": []
    },
    {
      "cell_type": "code",
      "metadata": {
        "id": "PK6lKg855HGF",
        "colab_type": "code",
        "colab": {}
      },
      "source": [
        "\n",
        "irisData = load_iris()"
      ],
      "execution_count": 0,
      "outputs": []
    },
    {
      "cell_type": "code",
      "metadata": {
        "id": "1eNB318J5JxZ",
        "colab_type": "code",
        "colab": {}
      },
      "source": [
        "X = irisData.data\n",
        "y = irisData.target"
      ],
      "execution_count": 0,
      "outputs": []
    },
    {
      "cell_type": "code",
      "metadata": {
        "id": "F8yqUR505LQS",
        "colab_type": "code",
        "colab": {}
      },
      "source": [
        "from sklearn.model_selection import train_test_split\n",
        "X_train, X_test, y_train, y_test = train_test_split(X, y, test_size=0.2,\n",
        " stratify=y, random_state=42)\n"
      ],
      "execution_count": 0,
      "outputs": []
    },
    {
      "cell_type": "code",
      "metadata": {
        "id": "NNBANnyV5Nvr",
        "colab_type": "code",
        "outputId": "5aba21c8-24db-472f-ccf3-b823660108fa",
        "colab": {
          "base_uri": "https://localhost:8080/",
          "height": 33
        }
      },
      "source": [
        "from sklearn.preprocessing import StandardScaler\n",
        "sc = StandardScaler()\n",
        "\n",
        "sc.fit(X_train)"
      ],
      "execution_count": 8,
      "outputs": [
        {
          "output_type": "execute_result",
          "data": {
            "text/plain": [
              "StandardScaler(copy=True, with_mean=True, with_std=True)"
            ]
          },
          "metadata": {
            "tags": []
          },
          "execution_count": 8
        }
      ]
    },
    {
      "cell_type": "code",
      "metadata": {
        "id": "KtswdvLX5PtV",
        "colab_type": "code",
        "colab": {}
      },
      "source": [
        "\n",
        "X_train_std = sc.transform(X_train)\n",
        "X_test_std = sc.transform(X_test)\n"
      ],
      "execution_count": 0,
      "outputs": []
    },
    {
      "cell_type": "code",
      "metadata": {
        "id": "CRHwp_5Q5-lJ",
        "colab_type": "code",
        "outputId": "bb07cea9-2d2a-43ce-83ba-989dd60e90ab",
        "colab": {
          "base_uri": "https://localhost:8080/",
          "height": 288
        }
      },
      "source": [
        "\n",
        "model_MLP = keras.models.Sequential()\n",
        "\n",
        "model_MLP.add(keras.layers.Dense(units=15, activation='relu',\n",
        " input_shape= X_train.shape[1:]))\n",
        "\n",
        "model_MLP.add(keras.layers.Dense(units=3, activation='softmax'))\n",
        "\n",
        "model_MLP.summary()\n"
      ],
      "execution_count": 10,
      "outputs": [
        {
          "output_type": "stream",
          "text": [
            "WARNING:tensorflow:From /usr/local/lib/python3.6/dist-packages/tensorflow_core/python/ops/resource_variable_ops.py:1630: calling BaseResourceVariable.__init__ (from tensorflow.python.ops.resource_variable_ops) with constraint is deprecated and will be removed in a future version.\n",
            "Instructions for updating:\n",
            "If using Keras pass *_constraint arguments to layers.\n",
            "Model: \"sequential\"\n",
            "_________________________________________________________________\n",
            "Layer (type)                 Output Shape              Param #   \n",
            "=================================================================\n",
            "dense (Dense)                (None, 15)                75        \n",
            "_________________________________________________________________\n",
            "dense_1 (Dense)              (None, 3)                 48        \n",
            "=================================================================\n",
            "Total params: 123\n",
            "Trainable params: 123\n",
            "Non-trainable params: 0\n",
            "_________________________________________________________________\n"
          ],
          "name": "stdout"
        }
      ]
    },
    {
      "cell_type": "code",
      "metadata": {
        "id": "FvQB9j596f17",
        "colab_type": "code",
        "colab": {}
      },
      "source": [
        "model_MLP.compile(loss='sparse_categorical_crossentropy',optimizer='adam', metrics=['accuracy'])\n"
      ],
      "execution_count": 0,
      "outputs": []
    },
    {
      "cell_type": "code",
      "metadata": {
        "id": "Jpkc71ke6iwF",
        "colab_type": "code",
        "outputId": "8a866fed-fbb1-468d-cd89-abb1dc32effe",
        "colab": {
          "base_uri": "https://localhost:8080/",
          "height": 1000
        }
      },
      "source": [
        "model_MLP.fit(x=X_train_std, y=y_train, validation_split=0.1,epochs=100, batch_size=16)"
      ],
      "execution_count": 12,
      "outputs": [
        {
          "output_type": "stream",
          "text": [
            "Train on 108 samples, validate on 12 samples\n",
            "Epoch 1/100\n",
            "108/108 [==============================] - 0s 2ms/sample - loss: 1.2136 - acc: 0.2870 - val_loss: 1.2068 - val_acc: 0.2500\n",
            "Epoch 2/100\n",
            "108/108 [==============================] - 0s 200us/sample - loss: 1.1591 - acc: 0.3704 - val_loss: 1.1464 - val_acc: 0.3333\n",
            "Epoch 3/100\n",
            "108/108 [==============================] - 0s 130us/sample - loss: 1.1060 - acc: 0.4259 - val_loss: 1.0904 - val_acc: 0.5000\n",
            "Epoch 4/100\n",
            "108/108 [==============================] - 0s 141us/sample - loss: 1.0571 - acc: 0.5093 - val_loss: 1.0356 - val_acc: 0.5833\n",
            "Epoch 5/100\n",
            "108/108 [==============================] - 0s 131us/sample - loss: 1.0095 - acc: 0.5463 - val_loss: 0.9840 - val_acc: 0.5833\n",
            "Epoch 6/100\n",
            "108/108 [==============================] - 0s 136us/sample - loss: 0.9667 - acc: 0.5556 - val_loss: 0.9352 - val_acc: 0.5833\n",
            "Epoch 7/100\n",
            "108/108 [==============================] - 0s 130us/sample - loss: 0.9246 - acc: 0.5648 - val_loss: 0.8918 - val_acc: 0.5833\n",
            "Epoch 8/100\n",
            "108/108 [==============================] - 0s 133us/sample - loss: 0.8855 - acc: 0.5926 - val_loss: 0.8520 - val_acc: 0.5833\n",
            "Epoch 9/100\n",
            "108/108 [==============================] - 0s 131us/sample - loss: 0.8495 - acc: 0.6204 - val_loss: 0.8132 - val_acc: 0.7500\n",
            "Epoch 10/100\n",
            "108/108 [==============================] - 0s 117us/sample - loss: 0.8158 - acc: 0.6389 - val_loss: 0.7776 - val_acc: 0.7500\n",
            "Epoch 11/100\n",
            "108/108 [==============================] - 0s 132us/sample - loss: 0.7823 - acc: 0.6759 - val_loss: 0.7470 - val_acc: 0.7500\n",
            "Epoch 12/100\n",
            "108/108 [==============================] - 0s 181us/sample - loss: 0.7514 - acc: 0.7222 - val_loss: 0.7175 - val_acc: 0.7500\n",
            "Epoch 13/100\n",
            "108/108 [==============================] - 0s 126us/sample - loss: 0.7215 - acc: 0.7593 - val_loss: 0.6926 - val_acc: 0.7500\n",
            "Epoch 14/100\n",
            "108/108 [==============================] - 0s 148us/sample - loss: 0.6936 - acc: 0.7778 - val_loss: 0.6679 - val_acc: 0.7500\n",
            "Epoch 15/100\n",
            "108/108 [==============================] - 0s 148us/sample - loss: 0.6663 - acc: 0.7870 - val_loss: 0.6460 - val_acc: 0.7500\n",
            "Epoch 16/100\n",
            "108/108 [==============================] - 0s 156us/sample - loss: 0.6414 - acc: 0.8148 - val_loss: 0.6264 - val_acc: 0.7500\n",
            "Epoch 17/100\n",
            "108/108 [==============================] - 0s 119us/sample - loss: 0.6164 - acc: 0.8241 - val_loss: 0.6086 - val_acc: 0.7500\n",
            "Epoch 18/100\n",
            "108/108 [==============================] - 0s 133us/sample - loss: 0.5936 - acc: 0.8519 - val_loss: 0.5930 - val_acc: 0.7500\n",
            "Epoch 19/100\n",
            "108/108 [==============================] - 0s 142us/sample - loss: 0.5716 - acc: 0.8704 - val_loss: 0.5786 - val_acc: 0.7500\n",
            "Epoch 20/100\n",
            "108/108 [==============================] - 0s 138us/sample - loss: 0.5508 - acc: 0.8796 - val_loss: 0.5649 - val_acc: 0.7500\n",
            "Epoch 21/100\n",
            "108/108 [==============================] - 0s 159us/sample - loss: 0.5321 - acc: 0.8796 - val_loss: 0.5528 - val_acc: 0.7500\n",
            "Epoch 22/100\n",
            "108/108 [==============================] - 0s 129us/sample - loss: 0.5136 - acc: 0.8796 - val_loss: 0.5414 - val_acc: 0.7500\n",
            "Epoch 23/100\n",
            "108/108 [==============================] - 0s 129us/sample - loss: 0.4971 - acc: 0.8889 - val_loss: 0.5301 - val_acc: 0.7500\n",
            "Epoch 24/100\n",
            "108/108 [==============================] - 0s 138us/sample - loss: 0.4812 - acc: 0.8889 - val_loss: 0.5200 - val_acc: 0.7500\n",
            "Epoch 25/100\n",
            "108/108 [==============================] - 0s 143us/sample - loss: 0.4679 - acc: 0.8889 - val_loss: 0.5132 - val_acc: 0.7500\n",
            "Epoch 26/100\n",
            "108/108 [==============================] - 0s 116us/sample - loss: 0.4540 - acc: 0.8889 - val_loss: 0.5037 - val_acc: 0.7500\n",
            "Epoch 27/100\n",
            "108/108 [==============================] - 0s 130us/sample - loss: 0.4412 - acc: 0.8981 - val_loss: 0.4942 - val_acc: 0.7500\n",
            "Epoch 28/100\n",
            "108/108 [==============================] - 0s 147us/sample - loss: 0.4303 - acc: 0.8981 - val_loss: 0.4865 - val_acc: 0.7500\n",
            "Epoch 29/100\n",
            "108/108 [==============================] - 0s 133us/sample - loss: 0.4192 - acc: 0.9074 - val_loss: 0.4786 - val_acc: 0.7500\n",
            "Epoch 30/100\n",
            "108/108 [==============================] - 0s 155us/sample - loss: 0.4090 - acc: 0.9074 - val_loss: 0.4700 - val_acc: 0.7500\n",
            "Epoch 31/100\n",
            "108/108 [==============================] - 0s 137us/sample - loss: 0.3995 - acc: 0.9074 - val_loss: 0.4615 - val_acc: 0.7500\n",
            "Epoch 32/100\n",
            "108/108 [==============================] - 0s 171us/sample - loss: 0.3903 - acc: 0.9074 - val_loss: 0.4533 - val_acc: 0.7500\n",
            "Epoch 33/100\n",
            "108/108 [==============================] - 0s 138us/sample - loss: 0.3820 - acc: 0.9074 - val_loss: 0.4477 - val_acc: 0.7500\n",
            "Epoch 34/100\n",
            "108/108 [==============================] - 0s 143us/sample - loss: 0.3738 - acc: 0.9167 - val_loss: 0.4426 - val_acc: 0.7500\n",
            "Epoch 35/100\n",
            "108/108 [==============================] - 0s 155us/sample - loss: 0.3659 - acc: 0.9074 - val_loss: 0.4355 - val_acc: 0.7500\n",
            "Epoch 36/100\n",
            "108/108 [==============================] - 0s 135us/sample - loss: 0.3585 - acc: 0.9074 - val_loss: 0.4290 - val_acc: 0.7500\n",
            "Epoch 37/100\n",
            "108/108 [==============================] - 0s 128us/sample - loss: 0.3517 - acc: 0.9074 - val_loss: 0.4218 - val_acc: 0.7500\n",
            "Epoch 38/100\n",
            "108/108 [==============================] - 0s 129us/sample - loss: 0.3451 - acc: 0.9074 - val_loss: 0.4153 - val_acc: 0.7500\n",
            "Epoch 39/100\n",
            "108/108 [==============================] - 0s 137us/sample - loss: 0.3387 - acc: 0.9074 - val_loss: 0.4089 - val_acc: 0.7500\n",
            "Epoch 40/100\n",
            "108/108 [==============================] - 0s 139us/sample - loss: 0.3328 - acc: 0.9074 - val_loss: 0.4033 - val_acc: 0.7500\n",
            "Epoch 41/100\n",
            "108/108 [==============================] - 0s 130us/sample - loss: 0.3272 - acc: 0.9074 - val_loss: 0.3963 - val_acc: 0.7500\n",
            "Epoch 42/100\n",
            "108/108 [==============================] - 0s 161us/sample - loss: 0.3217 - acc: 0.9074 - val_loss: 0.3912 - val_acc: 0.7500\n",
            "Epoch 43/100\n",
            "108/108 [==============================] - 0s 133us/sample - loss: 0.3163 - acc: 0.9074 - val_loss: 0.3859 - val_acc: 0.7500\n",
            "Epoch 44/100\n",
            "108/108 [==============================] - 0s 140us/sample - loss: 0.3112 - acc: 0.9074 - val_loss: 0.3802 - val_acc: 0.7500\n",
            "Epoch 45/100\n",
            "108/108 [==============================] - 0s 133us/sample - loss: 0.3063 - acc: 0.9074 - val_loss: 0.3747 - val_acc: 0.7500\n",
            "Epoch 46/100\n",
            "108/108 [==============================] - 0s 141us/sample - loss: 0.3018 - acc: 0.9074 - val_loss: 0.3683 - val_acc: 0.7500\n",
            "Epoch 47/100\n",
            "108/108 [==============================] - 0s 124us/sample - loss: 0.2973 - acc: 0.9074 - val_loss: 0.3629 - val_acc: 0.7500\n",
            "Epoch 48/100\n",
            "108/108 [==============================] - 0s 127us/sample - loss: 0.2929 - acc: 0.9074 - val_loss: 0.3568 - val_acc: 0.7500\n",
            "Epoch 49/100\n",
            "108/108 [==============================] - 0s 162us/sample - loss: 0.2885 - acc: 0.9167 - val_loss: 0.3524 - val_acc: 0.7500\n",
            "Epoch 50/100\n",
            "108/108 [==============================] - 0s 167us/sample - loss: 0.2845 - acc: 0.9167 - val_loss: 0.3473 - val_acc: 0.7500\n",
            "Epoch 51/100\n",
            "108/108 [==============================] - 0s 127us/sample - loss: 0.2806 - acc: 0.9167 - val_loss: 0.3430 - val_acc: 0.7500\n",
            "Epoch 52/100\n",
            "108/108 [==============================] - 0s 132us/sample - loss: 0.2769 - acc: 0.9167 - val_loss: 0.3375 - val_acc: 0.7500\n",
            "Epoch 53/100\n",
            "108/108 [==============================] - 0s 154us/sample - loss: 0.2731 - acc: 0.9167 - val_loss: 0.3337 - val_acc: 0.7500\n",
            "Epoch 54/100\n",
            "108/108 [==============================] - 0s 123us/sample - loss: 0.2697 - acc: 0.9167 - val_loss: 0.3272 - val_acc: 0.8333\n",
            "Epoch 55/100\n",
            "108/108 [==============================] - 0s 142us/sample - loss: 0.2660 - acc: 0.9259 - val_loss: 0.3230 - val_acc: 0.8333\n",
            "Epoch 56/100\n",
            "108/108 [==============================] - 0s 117us/sample - loss: 0.2627 - acc: 0.9259 - val_loss: 0.3178 - val_acc: 0.8333\n",
            "Epoch 57/100\n",
            "108/108 [==============================] - 0s 142us/sample - loss: 0.2593 - acc: 0.9259 - val_loss: 0.3136 - val_acc: 0.8333\n",
            "Epoch 58/100\n",
            "108/108 [==============================] - 0s 146us/sample - loss: 0.2561 - acc: 0.9259 - val_loss: 0.3112 - val_acc: 0.8333\n",
            "Epoch 59/100\n",
            "108/108 [==============================] - 0s 127us/sample - loss: 0.2528 - acc: 0.9259 - val_loss: 0.3063 - val_acc: 0.8333\n",
            "Epoch 60/100\n",
            "108/108 [==============================] - 0s 148us/sample - loss: 0.2497 - acc: 0.9352 - val_loss: 0.3014 - val_acc: 0.8333\n",
            "Epoch 61/100\n",
            "108/108 [==============================] - 0s 152us/sample - loss: 0.2467 - acc: 0.9352 - val_loss: 0.2966 - val_acc: 0.8333\n",
            "Epoch 62/100\n",
            "108/108 [==============================] - 0s 147us/sample - loss: 0.2435 - acc: 0.9352 - val_loss: 0.2924 - val_acc: 0.8333\n",
            "Epoch 63/100\n",
            "108/108 [==============================] - 0s 141us/sample - loss: 0.2413 - acc: 0.9352 - val_loss: 0.2911 - val_acc: 0.8333\n",
            "Epoch 64/100\n",
            "108/108 [==============================] - 0s 143us/sample - loss: 0.2379 - acc: 0.9352 - val_loss: 0.2850 - val_acc: 0.9167\n",
            "Epoch 65/100\n",
            "108/108 [==============================] - 0s 147us/sample - loss: 0.2350 - acc: 0.9352 - val_loss: 0.2802 - val_acc: 0.9167\n",
            "Epoch 66/100\n",
            "108/108 [==============================] - 0s 134us/sample - loss: 0.2321 - acc: 0.9352 - val_loss: 0.2768 - val_acc: 0.9167\n",
            "Epoch 67/100\n",
            "108/108 [==============================] - 0s 123us/sample - loss: 0.2294 - acc: 0.9352 - val_loss: 0.2733 - val_acc: 0.9167\n",
            "Epoch 68/100\n",
            "108/108 [==============================] - 0s 153us/sample - loss: 0.2271 - acc: 0.9352 - val_loss: 0.2678 - val_acc: 0.9167\n",
            "Epoch 69/100\n",
            "108/108 [==============================] - 0s 131us/sample - loss: 0.2244 - acc: 0.9352 - val_loss: 0.2646 - val_acc: 0.9167\n",
            "Epoch 70/100\n",
            "108/108 [==============================] - 0s 144us/sample - loss: 0.2215 - acc: 0.9352 - val_loss: 0.2608 - val_acc: 0.9167\n",
            "Epoch 71/100\n",
            "108/108 [==============================] - 0s 125us/sample - loss: 0.2191 - acc: 0.9352 - val_loss: 0.2573 - val_acc: 0.9167\n",
            "Epoch 72/100\n",
            "108/108 [==============================] - 0s 145us/sample - loss: 0.2167 - acc: 0.9352 - val_loss: 0.2542 - val_acc: 0.9167\n",
            "Epoch 73/100\n",
            "108/108 [==============================] - 0s 142us/sample - loss: 0.2143 - acc: 0.9352 - val_loss: 0.2500 - val_acc: 0.9167\n",
            "Epoch 74/100\n",
            "108/108 [==============================] - 0s 130us/sample - loss: 0.2122 - acc: 0.9352 - val_loss: 0.2449 - val_acc: 0.9167\n",
            "Epoch 75/100\n",
            "108/108 [==============================] - 0s 148us/sample - loss: 0.2097 - acc: 0.9352 - val_loss: 0.2426 - val_acc: 0.9167\n",
            "Epoch 76/100\n",
            "108/108 [==============================] - 0s 140us/sample - loss: 0.2074 - acc: 0.9352 - val_loss: 0.2384 - val_acc: 0.9167\n",
            "Epoch 77/100\n",
            "108/108 [==============================] - 0s 159us/sample - loss: 0.2053 - acc: 0.9352 - val_loss: 0.2367 - val_acc: 0.9167\n",
            "Epoch 78/100\n",
            "108/108 [==============================] - 0s 143us/sample - loss: 0.2030 - acc: 0.9352 - val_loss: 0.2334 - val_acc: 0.9167\n",
            "Epoch 79/100\n",
            "108/108 [==============================] - 0s 141us/sample - loss: 0.2007 - acc: 0.9352 - val_loss: 0.2288 - val_acc: 0.9167\n",
            "Epoch 80/100\n",
            "108/108 [==============================] - 0s 127us/sample - loss: 0.1987 - acc: 0.9352 - val_loss: 0.2235 - val_acc: 0.9167\n",
            "Epoch 81/100\n",
            "108/108 [==============================] - 0s 120us/sample - loss: 0.1965 - acc: 0.9444 - val_loss: 0.2218 - val_acc: 0.9167\n",
            "Epoch 82/100\n",
            "108/108 [==============================] - 0s 127us/sample - loss: 0.1943 - acc: 0.9444 - val_loss: 0.2175 - val_acc: 0.9167\n",
            "Epoch 83/100\n",
            "108/108 [==============================] - 0s 119us/sample - loss: 0.1923 - acc: 0.9444 - val_loss: 0.2131 - val_acc: 0.9167\n",
            "Epoch 84/100\n",
            "108/108 [==============================] - 0s 127us/sample - loss: 0.1901 - acc: 0.9444 - val_loss: 0.2097 - val_acc: 0.9167\n",
            "Epoch 85/100\n",
            "108/108 [==============================] - 0s 125us/sample - loss: 0.1882 - acc: 0.9444 - val_loss: 0.2084 - val_acc: 0.9167\n",
            "Epoch 86/100\n",
            "108/108 [==============================] - 0s 184us/sample - loss: 0.1862 - acc: 0.9444 - val_loss: 0.2050 - val_acc: 0.9167\n",
            "Epoch 87/100\n",
            "108/108 [==============================] - 0s 111us/sample - loss: 0.1846 - acc: 0.9444 - val_loss: 0.2009 - val_acc: 0.9167\n",
            "Epoch 88/100\n",
            "108/108 [==============================] - 0s 168us/sample - loss: 0.1822 - acc: 0.9444 - val_loss: 0.1986 - val_acc: 0.9167\n",
            "Epoch 89/100\n",
            "108/108 [==============================] - 0s 154us/sample - loss: 0.1804 - acc: 0.9444 - val_loss: 0.1968 - val_acc: 0.9167\n",
            "Epoch 90/100\n",
            "108/108 [==============================] - 0s 162us/sample - loss: 0.1788 - acc: 0.9444 - val_loss: 0.1943 - val_acc: 0.9167\n",
            "Epoch 91/100\n",
            "108/108 [==============================] - 0s 169us/sample - loss: 0.1769 - acc: 0.9444 - val_loss: 0.1921 - val_acc: 0.9167\n",
            "Epoch 92/100\n",
            "108/108 [==============================] - 0s 158us/sample - loss: 0.1751 - acc: 0.9444 - val_loss: 0.1900 - val_acc: 0.9167\n",
            "Epoch 93/100\n",
            "108/108 [==============================] - 0s 140us/sample - loss: 0.1732 - acc: 0.9444 - val_loss: 0.1868 - val_acc: 0.9167\n",
            "Epoch 94/100\n",
            "108/108 [==============================] - 0s 140us/sample - loss: 0.1715 - acc: 0.9444 - val_loss: 0.1834 - val_acc: 0.9167\n",
            "Epoch 95/100\n",
            "108/108 [==============================] - 0s 158us/sample - loss: 0.1702 - acc: 0.9444 - val_loss: 0.1790 - val_acc: 0.9167\n",
            "Epoch 96/100\n",
            "108/108 [==============================] - 0s 199us/sample - loss: 0.1682 - acc: 0.9444 - val_loss: 0.1767 - val_acc: 0.9167\n",
            "Epoch 97/100\n",
            "108/108 [==============================] - 0s 192us/sample - loss: 0.1666 - acc: 0.9444 - val_loss: 0.1745 - val_acc: 0.9167\n",
            "Epoch 98/100\n",
            "108/108 [==============================] - 0s 141us/sample - loss: 0.1649 - acc: 0.9537 - val_loss: 0.1727 - val_acc: 0.9167\n",
            "Epoch 99/100\n",
            "108/108 [==============================] - 0s 134us/sample - loss: 0.1634 - acc: 0.9537 - val_loss: 0.1702 - val_acc: 0.9167\n",
            "Epoch 100/100\n",
            "108/108 [==============================] - 0s 218us/sample - loss: 0.1618 - acc: 0.9537 - val_loss: 0.1682 - val_acc: 0.9167\n"
          ],
          "name": "stdout"
        },
        {
          "output_type": "execute_result",
          "data": {
            "text/plain": [
              "<tensorflow.python.keras.callbacks.History at 0x7f7dd4e14e48>"
            ]
          },
          "metadata": {
            "tags": []
          },
          "execution_count": 12
        }
      ]
    },
    {
      "cell_type": "code",
      "metadata": {
        "id": "TJ5VrYF36kjb",
        "colab_type": "code",
        "outputId": "2fb87d4b-2468-4679-f7e4-d314137aba5e",
        "colab": {
          "base_uri": "https://localhost:8080/",
          "height": 50
        }
      },
      "source": [
        "\n",
        "test_loss, test_accuracy = model_MLP.evaluate(x=X_test_std, y=y_test)\n",
        "print(test_loss, test_accuracy)"
      ],
      "execution_count": 13,
      "outputs": [
        {
          "output_type": "stream",
          "text": [
            "\r30/30 [==============================] - 0s 73us/sample - loss: 0.2206 - acc: 0.9000\n",
            "0.22058716416358948 0.9\n"
          ],
          "name": "stdout"
        }
      ]
    },
    {
      "cell_type": "code",
      "metadata": {
        "id": "6MVDPG2h6pDW",
        "colab_type": "code",
        "colab": {}
      },
      "source": [
        ""
      ],
      "execution_count": 0,
      "outputs": []
    }
  ]
}