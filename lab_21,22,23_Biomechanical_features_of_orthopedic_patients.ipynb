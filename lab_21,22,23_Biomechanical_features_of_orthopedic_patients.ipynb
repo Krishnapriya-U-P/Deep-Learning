{
  "nbformat": 4,
  "nbformat_minor": 0,
  "metadata": {
    "colab": {
      "name": "lab_21,22,23  Biomechanical features of orthopedic patients.ipynb",
      "provenance": [],
      "authorship_tag": "ABX9TyPo1ujqGLnFsDDw4kwVWfM4"
    },
    "kernelspec": {
      "name": "python3",
      "display_name": "Python 3"
    }
  },
  "cells": [
    {
      "cell_type": "code",
      "metadata": {
        "id": "L3WERRYSDOk8",
        "colab_type": "code",
        "colab": {
          "base_uri": "https://localhost:8080/",
          "height": 120
        },
        "outputId": "a4f06f7e-3599-44e9-cffd-469e6ed61de7"
      },
      "source": [
        "from google.colab import drive\n",
        "drive.mount('/content/drive')"
      ],
      "execution_count": 1,
      "outputs": [
        {
          "output_type": "stream",
          "text": [
            "Go to this URL in a browser: https://accounts.google.com/o/oauth2/auth?client_id=947318989803-6bn6qk8qdgf4n4g3pfee6491hc0brc4i.apps.googleusercontent.com&redirect_uri=urn%3aietf%3awg%3aoauth%3a2.0%3aoob&response_type=code&scope=email%20https%3a%2f%2fwww.googleapis.com%2fauth%2fdocs.test%20https%3a%2f%2fwww.googleapis.com%2fauth%2fdrive%20https%3a%2f%2fwww.googleapis.com%2fauth%2fdrive.photos.readonly%20https%3a%2f%2fwww.googleapis.com%2fauth%2fpeopleapi.readonly\n",
            "\n",
            "Enter your authorization code:\n",
            "··········\n",
            "Mounted at /content/drive\n"
          ],
          "name": "stdout"
        }
      ]
    },
    {
      "cell_type": "code",
      "metadata": {
        "id": "S10tGLlbLhqX",
        "colab_type": "code",
        "colab": {}
      },
      "source": [
        "import pandas as pd\n",
        "import numpy as np"
      ],
      "execution_count": 0,
      "outputs": []
    },
    {
      "cell_type": "code",
      "metadata": {
        "id": "ISCJHApwMQVU",
        "colab_type": "code",
        "colab": {}
      },
      "source": [
        "#binary dataset\n",
        "data1 = pd.read_csv('/content/drive/My Drive/AI/Deep Learning/Datasets/biomechanical-features-of-orthopedic-patients/column_2C_weka.csv')\n",
        "#multiclass dataset\n",
        "data2 = pd.read_csv('/content/drive/My Drive/AI/Deep Learning/Datasets/biomechanical-features-of-orthopedic-patients/column_3C_weka.csv')"
      ],
      "execution_count": 0,
      "outputs": []
    },
    {
      "cell_type": "code",
      "metadata": {
        "id": "GMuCAGZOMTU5",
        "colab_type": "code",
        "colab": {
          "base_uri": "https://localhost:8080/",
          "height": 418
        },
        "outputId": "b764dfb7-94f1-4dc2-91a3-9ea664adda19"
      },
      "source": [
        "data1.info()\n",
        "data2.info()"
      ],
      "execution_count": 4,
      "outputs": [
        {
          "output_type": "stream",
          "text": [
            "<class 'pandas.core.frame.DataFrame'>\n",
            "RangeIndex: 310 entries, 0 to 309\n",
            "Data columns (total 7 columns):\n",
            "pelvic_incidence            310 non-null float64\n",
            "pelvic_tilt numeric         310 non-null float64\n",
            "lumbar_lordosis_angle       310 non-null float64\n",
            "sacral_slope                310 non-null float64\n",
            "pelvic_radius               310 non-null float64\n",
            "degree_spondylolisthesis    310 non-null float64\n",
            "class                       310 non-null object\n",
            "dtypes: float64(6), object(1)\n",
            "memory usage: 17.1+ KB\n",
            "<class 'pandas.core.frame.DataFrame'>\n",
            "RangeIndex: 310 entries, 0 to 309\n",
            "Data columns (total 7 columns):\n",
            "pelvic_incidence            310 non-null float64\n",
            "pelvic_tilt                 310 non-null float64\n",
            "lumbar_lordosis_angle       310 non-null float64\n",
            "sacral_slope                310 non-null float64\n",
            "pelvic_radius               310 non-null float64\n",
            "degree_spondylolisthesis    310 non-null float64\n",
            "class                       310 non-null object\n",
            "dtypes: float64(6), object(1)\n",
            "memory usage: 17.1+ KB\n"
          ],
          "name": "stdout"
        }
      ]
    },
    {
      "cell_type": "code",
      "metadata": {
        "id": "tnvqvtl0MaTx",
        "colab_type": "code",
        "colab": {}
      },
      "source": [
        "from sklearn import preprocessing\n",
        "le = preprocessing.LabelEncoder()\n",
        "\n",
        "le.fit(data1['class'])\n",
        "data1['class']=le.transform(data1['class'])\n",
        "\n",
        "le.fit(data2['class'])\n",
        "data2['class']=le.transform(data2['class'])"
      ],
      "execution_count": 0,
      "outputs": []
    },
    {
      "cell_type": "code",
      "metadata": {
        "id": "n4pyGT8SMdg5",
        "colab_type": "code",
        "colab": {}
      },
      "source": [
        "y1=data1['class']\n",
        "data1.drop(['class'],axis=1,inplace=True)\n",
        "\n",
        "y2=data2['class']\n",
        "data2.drop(['class'],axis=1,inplace=True)"
      ],
      "execution_count": 0,
      "outputs": []
    },
    {
      "cell_type": "code",
      "metadata": {
        "id": "rPvFStvfMewh",
        "colab_type": "code",
        "colab": {}
      },
      "source": [
        "from sklearn.model_selection import train_test_split\n",
        "X_train1, X_test1, y_train1, y_test1 = train_test_split(data1, y1, test_size=0.275, stratify=y1,random_state=42)\n",
        "\n",
        "X_train2, X_test2, y_train2, y_test2 = train_test_split(data2, y2, test_size=0.275, stratify=y2,random_state=42)"
      ],
      "execution_count": 0,
      "outputs": []
    },
    {
      "cell_type": "code",
      "metadata": {
        "id": "-Cy3fV5iMhLG",
        "colab_type": "code",
        "colab": {}
      },
      "source": [
        "\n",
        "import tensorflow.compat.v1 as tf\n",
        "from tensorflow import keras\n"
      ],
      "execution_count": 0,
      "outputs": []
    },
    {
      "cell_type": "code",
      "metadata": {
        "id": "PJTwkIcdNDzH",
        "colab_type": "code",
        "colab": {}
      },
      "source": [
        "\n",
        "tf.set_random_seed(42)\n",
        "np.random.seed(42)"
      ],
      "execution_count": 0,
      "outputs": []
    },
    {
      "cell_type": "code",
      "metadata": {
        "id": "qzYy2gvUQs2y",
        "colab_type": "code",
        "colab": {}
      },
      "source": [
        "from sklearn.preprocessing import StandardScaler\n",
        "sc1 = StandardScaler()\n",
        "sc2 = StandardScaler()"
      ],
      "execution_count": 0,
      "outputs": []
    },
    {
      "cell_type": "markdown",
      "metadata": {
        "id": "o-c3zhQfOw9d",
        "colab_type": "text"
      },
      "source": [
        "# Binary Classification"
      ]
    },
    {
      "cell_type": "code",
      "metadata": {
        "id": "oy7JFKSdQ5RW",
        "colab_type": "code",
        "colab": {}
      },
      "source": [
        ""
      ],
      "execution_count": 0,
      "outputs": []
    },
    {
      "cell_type": "code",
      "metadata": {
        "id": "9suOdcSLNPpH",
        "colab_type": "code",
        "colab": {
          "base_uri": "https://localhost:8080/",
          "height": 217
        },
        "outputId": "f0c558a8-527c-44c7-c895-71b5db7b135a"
      },
      "source": [
        "model_MLP1 = keras.models.Sequential()\n",
        "\n",
        "model_MLP1.add(keras.layers.Dense(units=5, activation='relu', input_shape=X_train1.shape[1:]))\n",
        "\n",
        "model_MLP1.add(keras.layers.Dense(units=1, activation='sigmoid'))\n",
        "\n",
        "model_MLP1.summary()"
      ],
      "execution_count": 57,
      "outputs": [
        {
          "output_type": "stream",
          "text": [
            "Model: \"sequential_10\"\n",
            "_________________________________________________________________\n",
            "Layer (type)                 Output Shape              Param #   \n",
            "=================================================================\n",
            "dense_18 (Dense)             (None, 5)                 35        \n",
            "_________________________________________________________________\n",
            "dense_19 (Dense)             (None, 1)                 6         \n",
            "=================================================================\n",
            "Total params: 41\n",
            "Trainable params: 41\n",
            "Non-trainable params: 0\n",
            "_________________________________________________________________\n"
          ],
          "name": "stdout"
        }
      ]
    },
    {
      "cell_type": "code",
      "metadata": {
        "id": "BibzSyAmNZEN",
        "colab_type": "code",
        "colab": {}
      },
      "source": [
        "model_MLP1.compile(loss='binary_crossentropy', optimizer='adam',metrics=['accuracy'])"
      ],
      "execution_count": 0,
      "outputs": []
    },
    {
      "cell_type": "code",
      "metadata": {
        "id": "R_dxudR3OQmz",
        "colab_type": "code",
        "colab": {
          "base_uri": "https://localhost:8080/",
          "height": 1000
        },
        "outputId": "737612e3-f96f-45af-be6d-a43c02c19bb3"
      },
      "source": [
        "model_MLP1.fit(x=X_train1, y=y_train1, validation_split=0.1,epochs=50, batch_size=16)"
      ],
      "execution_count": 59,
      "outputs": [
        {
          "output_type": "stream",
          "text": [
            "Train on 201 samples, validate on 23 samples\n",
            "Epoch 1/50\n",
            "201/201 [==============================] - 0s 995us/sample - loss: 1.3703 - acc: 0.3284 - val_loss: 1.1353 - val_acc: 0.2609\n",
            "Epoch 2/50\n",
            "201/201 [==============================] - 0s 122us/sample - loss: 0.8727 - acc: 0.3284 - val_loss: 0.7036 - val_acc: 0.2609\n",
            "Epoch 3/50\n",
            "201/201 [==============================] - 0s 111us/sample - loss: 0.6524 - acc: 0.6219 - val_loss: 0.5748 - val_acc: 0.7391\n",
            "Epoch 4/50\n",
            "201/201 [==============================] - 0s 112us/sample - loss: 0.6134 - acc: 0.6716 - val_loss: 0.5469 - val_acc: 0.7391\n",
            "Epoch 5/50\n",
            "201/201 [==============================] - 0s 127us/sample - loss: 0.6114 - acc: 0.6716 - val_loss: 0.5442 - val_acc: 0.7391\n",
            "Epoch 6/50\n",
            "201/201 [==============================] - 0s 122us/sample - loss: 0.6114 - acc: 0.6716 - val_loss: 0.5473 - val_acc: 0.7391\n",
            "Epoch 7/50\n",
            "201/201 [==============================] - 0s 127us/sample - loss: 0.6102 - acc: 0.6716 - val_loss: 0.5481 - val_acc: 0.7391\n",
            "Epoch 8/50\n",
            "201/201 [==============================] - 0s 115us/sample - loss: 0.6097 - acc: 0.6716 - val_loss: 0.5464 - val_acc: 0.7391\n",
            "Epoch 9/50\n",
            "201/201 [==============================] - 0s 118us/sample - loss: 0.6107 - acc: 0.6716 - val_loss: 0.5513 - val_acc: 0.7391\n",
            "Epoch 10/50\n",
            "201/201 [==============================] - 0s 119us/sample - loss: 0.6108 - acc: 0.6716 - val_loss: 0.5445 - val_acc: 0.7391\n",
            "Epoch 11/50\n",
            "201/201 [==============================] - 0s 112us/sample - loss: 0.6112 - acc: 0.6716 - val_loss: 0.5490 - val_acc: 0.7391\n",
            "Epoch 12/50\n",
            "201/201 [==============================] - 0s 127us/sample - loss: 0.6085 - acc: 0.6716 - val_loss: 0.5428 - val_acc: 0.7391\n",
            "Epoch 13/50\n",
            "201/201 [==============================] - 0s 103us/sample - loss: 0.6078 - acc: 0.6716 - val_loss: 0.5451 - val_acc: 0.7391\n",
            "Epoch 14/50\n",
            "201/201 [==============================] - 0s 119us/sample - loss: 0.6066 - acc: 0.6716 - val_loss: 0.5440 - val_acc: 0.7391\n",
            "Epoch 15/50\n",
            "201/201 [==============================] - 0s 122us/sample - loss: 0.6064 - acc: 0.6716 - val_loss: 0.5426 - val_acc: 0.7391\n",
            "Epoch 16/50\n",
            "201/201 [==============================] - 0s 120us/sample - loss: 0.6062 - acc: 0.6716 - val_loss: 0.5430 - val_acc: 0.7391\n",
            "Epoch 17/50\n",
            "201/201 [==============================] - 0s 145us/sample - loss: 0.6051 - acc: 0.6716 - val_loss: 0.5434 - val_acc: 0.7391\n",
            "Epoch 18/50\n",
            "201/201 [==============================] - 0s 137us/sample - loss: 0.6046 - acc: 0.6716 - val_loss: 0.5429 - val_acc: 0.7391\n",
            "Epoch 19/50\n",
            "201/201 [==============================] - 0s 119us/sample - loss: 0.6043 - acc: 0.6716 - val_loss: 0.5403 - val_acc: 0.7391\n",
            "Epoch 20/50\n",
            "201/201 [==============================] - 0s 122us/sample - loss: 0.6034 - acc: 0.6716 - val_loss: 0.5385 - val_acc: 0.7391\n",
            "Epoch 21/50\n",
            "201/201 [==============================] - 0s 120us/sample - loss: 0.6027 - acc: 0.6716 - val_loss: 0.5359 - val_acc: 0.7391\n",
            "Epoch 22/50\n",
            "201/201 [==============================] - 0s 123us/sample - loss: 0.6026 - acc: 0.6716 - val_loss: 0.5346 - val_acc: 0.7391\n",
            "Epoch 23/50\n",
            "201/201 [==============================] - 0s 129us/sample - loss: 0.6030 - acc: 0.6716 - val_loss: 0.5383 - val_acc: 0.7391\n",
            "Epoch 24/50\n",
            "201/201 [==============================] - 0s 120us/sample - loss: 0.6005 - acc: 0.6716 - val_loss: 0.5338 - val_acc: 0.7391\n",
            "Epoch 25/50\n",
            "201/201 [==============================] - 0s 142us/sample - loss: 0.6007 - acc: 0.6716 - val_loss: 0.5300 - val_acc: 0.7391\n",
            "Epoch 26/50\n",
            "201/201 [==============================] - 0s 115us/sample - loss: 0.5994 - acc: 0.6716 - val_loss: 0.5324 - val_acc: 0.7391\n",
            "Epoch 27/50\n",
            "201/201 [==============================] - 0s 113us/sample - loss: 0.5989 - acc: 0.6716 - val_loss: 0.5345 - val_acc: 0.7391\n",
            "Epoch 28/50\n",
            "201/201 [==============================] - 0s 140us/sample - loss: 0.5987 - acc: 0.6716 - val_loss: 0.5302 - val_acc: 0.7391\n",
            "Epoch 29/50\n",
            "201/201 [==============================] - 0s 115us/sample - loss: 0.5987 - acc: 0.6716 - val_loss: 0.5340 - val_acc: 0.7391\n",
            "Epoch 30/50\n",
            "201/201 [==============================] - 0s 112us/sample - loss: 0.5963 - acc: 0.6716 - val_loss: 0.5281 - val_acc: 0.7391\n",
            "Epoch 31/50\n",
            "201/201 [==============================] - 0s 121us/sample - loss: 0.5954 - acc: 0.6716 - val_loss: 0.5271 - val_acc: 0.7391\n",
            "Epoch 32/50\n",
            "201/201 [==============================] - 0s 109us/sample - loss: 0.5942 - acc: 0.6716 - val_loss: 0.5253 - val_acc: 0.7391\n",
            "Epoch 33/50\n",
            "201/201 [==============================] - 0s 127us/sample - loss: 0.5940 - acc: 0.6716 - val_loss: 0.5222 - val_acc: 0.7391\n",
            "Epoch 34/50\n",
            "201/201 [==============================] - 0s 121us/sample - loss: 0.5925 - acc: 0.6716 - val_loss: 0.5228 - val_acc: 0.7391\n",
            "Epoch 35/50\n",
            "201/201 [==============================] - 0s 116us/sample - loss: 0.5913 - acc: 0.6716 - val_loss: 0.5231 - val_acc: 0.7391\n",
            "Epoch 36/50\n",
            "201/201 [==============================] - 0s 112us/sample - loss: 0.5905 - acc: 0.6716 - val_loss: 0.5217 - val_acc: 0.7391\n",
            "Epoch 37/50\n",
            "201/201 [==============================] - 0s 115us/sample - loss: 0.5899 - acc: 0.6716 - val_loss: 0.5210 - val_acc: 0.7391\n",
            "Epoch 38/50\n",
            "201/201 [==============================] - 0s 120us/sample - loss: 0.5902 - acc: 0.6716 - val_loss: 0.5129 - val_acc: 0.7391\n",
            "Epoch 39/50\n",
            "201/201 [==============================] - 0s 117us/sample - loss: 0.5876 - acc: 0.6716 - val_loss: 0.5163 - val_acc: 0.7391\n",
            "Epoch 40/50\n",
            "201/201 [==============================] - 0s 112us/sample - loss: 0.5863 - acc: 0.6716 - val_loss: 0.5174 - val_acc: 0.7391\n",
            "Epoch 41/50\n",
            "201/201 [==============================] - 0s 105us/sample - loss: 0.5849 - acc: 0.6716 - val_loss: 0.5120 - val_acc: 0.7391\n",
            "Epoch 42/50\n",
            "201/201 [==============================] - 0s 121us/sample - loss: 0.5837 - acc: 0.6716 - val_loss: 0.5098 - val_acc: 0.7391\n",
            "Epoch 43/50\n",
            "201/201 [==============================] - 0s 127us/sample - loss: 0.5823 - acc: 0.6716 - val_loss: 0.5084 - val_acc: 0.7391\n",
            "Epoch 44/50\n",
            "201/201 [==============================] - 0s 117us/sample - loss: 0.5808 - acc: 0.6716 - val_loss: 0.5088 - val_acc: 0.7391\n",
            "Epoch 45/50\n",
            "201/201 [==============================] - 0s 111us/sample - loss: 0.5795 - acc: 0.6716 - val_loss: 0.5078 - val_acc: 0.7391\n",
            "Epoch 46/50\n",
            "201/201 [==============================] - 0s 128us/sample - loss: 0.5790 - acc: 0.6716 - val_loss: 0.5007 - val_acc: 0.7391\n",
            "Epoch 47/50\n",
            "201/201 [==============================] - 0s 135us/sample - loss: 0.5774 - acc: 0.6716 - val_loss: 0.5008 - val_acc: 0.7391\n",
            "Epoch 48/50\n",
            "201/201 [==============================] - 0s 120us/sample - loss: 0.5755 - acc: 0.6716 - val_loss: 0.5028 - val_acc: 0.7391\n",
            "Epoch 49/50\n",
            "201/201 [==============================] - 0s 116us/sample - loss: 0.5735 - acc: 0.6716 - val_loss: 0.4964 - val_acc: 0.7391\n",
            "Epoch 50/50\n",
            "201/201 [==============================] - 0s 122us/sample - loss: 0.5727 - acc: 0.6716 - val_loss: 0.4913 - val_acc: 0.7391\n"
          ],
          "name": "stdout"
        },
        {
          "output_type": "execute_result",
          "data": {
            "text/plain": [
              "<tensorflow.python.keras.callbacks.History at 0x7fc49487dcf8>"
            ]
          },
          "metadata": {
            "tags": []
          },
          "execution_count": 59
        }
      ]
    },
    {
      "cell_type": "code",
      "metadata": {
        "id": "Yahjq_rjOTdG",
        "colab_type": "code",
        "colab": {
          "base_uri": "https://localhost:8080/",
          "height": 33
        },
        "outputId": "e459943f-e9ba-4975-9793-b22c7db10a1e"
      },
      "source": [
        "test_loss, test_accuracy = model_MLP.evaluate(x=X_test1, y=y_test1) "
      ],
      "execution_count": 60,
      "outputs": [
        {
          "output_type": "stream",
          "text": [
            "86/86 [==============================] - 0s 83us/sample - loss: 0.6878 - acc: 0.7093\n"
          ],
          "name": "stdout"
        }
      ]
    },
    {
      "cell_type": "code",
      "metadata": {
        "id": "wSOdgTOoOftd",
        "colab_type": "code",
        "colab": {
          "base_uri": "https://localhost:8080/",
          "height": 50
        },
        "outputId": "14a848b1-8b07-496a-eb88-6345983cc7dc"
      },
      "source": [
        "print(test_loss, '\\n',test_accuracy)"
      ],
      "execution_count": 61,
      "outputs": [
        {
          "output_type": "stream",
          "text": [
            "0.6878371599108674 \n",
            " 0.7093023\n"
          ],
          "name": "stdout"
        }
      ]
    },
    {
      "cell_type": "markdown",
      "metadata": {
        "id": "YqW39JtNO3VJ",
        "colab_type": "text"
      },
      "source": [
        "# Muliticlass Classification"
      ]
    },
    {
      "cell_type": "code",
      "metadata": {
        "id": "nrtEwoehRTwy",
        "colab_type": "code",
        "colab": {}
      },
      "source": [
        ""
      ],
      "execution_count": 0,
      "outputs": []
    },
    {
      "cell_type": "code",
      "metadata": {
        "id": "_Nx--iq9OkQA",
        "colab_type": "code",
        "colab": {
          "base_uri": "https://localhost:8080/",
          "height": 217
        },
        "outputId": "f465f720-c37e-45d2-e5dc-7e0e3fce99d9"
      },
      "source": [
        "model_MLP2 = keras.models.Sequential()\n",
        "\n",
        "model_MLP2.add(keras.layers.Dense(units=10, activation='relu', input_shape=X_train2.shape[1:]))\n",
        "\n",
        "model_MLP2.add(keras.layers.Dense(units=3, activation='softmax'))\n",
        "\n",
        "model_MLP2.summary()"
      ],
      "execution_count": 67,
      "outputs": [
        {
          "output_type": "stream",
          "text": [
            "Model: \"sequential_12\"\n",
            "_________________________________________________________________\n",
            "Layer (type)                 Output Shape              Param #   \n",
            "=================================================================\n",
            "dense_22 (Dense)             (None, 10)                70        \n",
            "_________________________________________________________________\n",
            "dense_23 (Dense)             (None, 3)                 33        \n",
            "=================================================================\n",
            "Total params: 103\n",
            "Trainable params: 103\n",
            "Non-trainable params: 0\n",
            "_________________________________________________________________\n"
          ],
          "name": "stdout"
        }
      ]
    },
    {
      "cell_type": "code",
      "metadata": {
        "id": "wxGICn0XPEVZ",
        "colab_type": "code",
        "colab": {}
      },
      "source": [
        "model_MLP2.compile(loss='sparse_categorical_crossentropy', optimizer='adam',metrics=['accuracy'])"
      ],
      "execution_count": 0,
      "outputs": []
    },
    {
      "cell_type": "code",
      "metadata": {
        "id": "gNzwVEdxPYRS",
        "colab_type": "code",
        "colab": {
          "base_uri": "https://localhost:8080/",
          "height": 1000
        },
        "outputId": "d7bd1079-24f5-4b2f-9c4c-c6c90473ed1f"
      },
      "source": [
        "model_MLP2.fit(x=X_train2, y=y_train2, validation_split=0.1,epochs=50, batch_size=16)"
      ],
      "execution_count": 69,
      "outputs": [
        {
          "output_type": "stream",
          "text": [
            "Train on 201 samples, validate on 23 samples\n",
            "Epoch 1/50\n",
            "201/201 [==============================] - 0s 1ms/sample - loss: 1.2171 - acc: 0.2090 - val_loss: 0.9944 - val_acc: 0.3913\n",
            "Epoch 2/50\n",
            "201/201 [==============================] - 0s 113us/sample - loss: 1.1340 - acc: 0.2786 - val_loss: 0.9678 - val_acc: 0.4348\n",
            "Epoch 3/50\n",
            "201/201 [==============================] - 0s 125us/sample - loss: 1.0610 - acc: 0.3930 - val_loss: 0.9428 - val_acc: 0.4348\n",
            "Epoch 4/50\n",
            "201/201 [==============================] - 0s 119us/sample - loss: 0.9979 - acc: 0.4627 - val_loss: 0.9193 - val_acc: 0.4783\n",
            "Epoch 5/50\n",
            "201/201 [==============================] - 0s 120us/sample - loss: 0.9417 - acc: 0.5025 - val_loss: 0.9027 - val_acc: 0.5652\n",
            "Epoch 6/50\n",
            "201/201 [==============================] - 0s 116us/sample - loss: 0.8932 - acc: 0.5771 - val_loss: 0.8853 - val_acc: 0.6087\n",
            "Epoch 7/50\n",
            "201/201 [==============================] - 0s 121us/sample - loss: 0.8483 - acc: 0.6318 - val_loss: 0.8711 - val_acc: 0.6087\n",
            "Epoch 8/50\n",
            "201/201 [==============================] - 0s 146us/sample - loss: 0.8098 - acc: 0.6667 - val_loss: 0.8577 - val_acc: 0.6087\n",
            "Epoch 9/50\n",
            "201/201 [==============================] - 0s 128us/sample - loss: 0.7771 - acc: 0.6965 - val_loss: 0.8472 - val_acc: 0.6957\n",
            "Epoch 10/50\n",
            "201/201 [==============================] - 0s 112us/sample - loss: 0.7468 - acc: 0.7164 - val_loss: 0.8375 - val_acc: 0.7391\n",
            "Epoch 11/50\n",
            "201/201 [==============================] - 0s 121us/sample - loss: 0.7213 - acc: 0.7313 - val_loss: 0.8287 - val_acc: 0.6522\n",
            "Epoch 12/50\n",
            "201/201 [==============================] - 0s 110us/sample - loss: 0.6998 - acc: 0.7214 - val_loss: 0.8188 - val_acc: 0.6522\n",
            "Epoch 13/50\n",
            "201/201 [==============================] - 0s 108us/sample - loss: 0.6793 - acc: 0.7562 - val_loss: 0.8118 - val_acc: 0.6522\n",
            "Epoch 14/50\n",
            "201/201 [==============================] - 0s 112us/sample - loss: 0.6613 - acc: 0.7761 - val_loss: 0.8000 - val_acc: 0.6522\n",
            "Epoch 15/50\n",
            "201/201 [==============================] - 0s 120us/sample - loss: 0.6459 - acc: 0.7910 - val_loss: 0.7890 - val_acc: 0.6522\n",
            "Epoch 16/50\n",
            "201/201 [==============================] - 0s 133us/sample - loss: 0.6303 - acc: 0.7861 - val_loss: 0.7838 - val_acc: 0.6522\n",
            "Epoch 17/50\n",
            "201/201 [==============================] - 0s 124us/sample - loss: 0.6167 - acc: 0.7861 - val_loss: 0.7741 - val_acc: 0.6522\n",
            "Epoch 18/50\n",
            "201/201 [==============================] - 0s 126us/sample - loss: 0.6038 - acc: 0.7910 - val_loss: 0.7669 - val_acc: 0.6522\n",
            "Epoch 19/50\n",
            "201/201 [==============================] - 0s 121us/sample - loss: 0.5918 - acc: 0.7960 - val_loss: 0.7601 - val_acc: 0.6957\n",
            "Epoch 20/50\n",
            "201/201 [==============================] - 0s 123us/sample - loss: 0.5809 - acc: 0.7960 - val_loss: 0.7542 - val_acc: 0.6522\n",
            "Epoch 21/50\n",
            "201/201 [==============================] - 0s 123us/sample - loss: 0.5699 - acc: 0.7960 - val_loss: 0.7448 - val_acc: 0.6522\n",
            "Epoch 22/50\n",
            "201/201 [==============================] - 0s 124us/sample - loss: 0.5595 - acc: 0.7960 - val_loss: 0.7369 - val_acc: 0.7391\n",
            "Epoch 23/50\n",
            "201/201 [==============================] - 0s 128us/sample - loss: 0.5494 - acc: 0.7960 - val_loss: 0.7263 - val_acc: 0.7391\n",
            "Epoch 24/50\n",
            "201/201 [==============================] - 0s 128us/sample - loss: 0.5397 - acc: 0.8060 - val_loss: 0.7192 - val_acc: 0.7391\n",
            "Epoch 25/50\n",
            "201/201 [==============================] - 0s 112us/sample - loss: 0.5301 - acc: 0.8060 - val_loss: 0.7128 - val_acc: 0.6957\n",
            "Epoch 26/50\n",
            "201/201 [==============================] - 0s 111us/sample - loss: 0.5221 - acc: 0.8060 - val_loss: 0.7035 - val_acc: 0.6957\n",
            "Epoch 27/50\n",
            "201/201 [==============================] - 0s 113us/sample - loss: 0.5132 - acc: 0.8109 - val_loss: 0.7002 - val_acc: 0.6522\n",
            "Epoch 28/50\n",
            "201/201 [==============================] - 0s 109us/sample - loss: 0.5055 - acc: 0.8109 - val_loss: 0.6914 - val_acc: 0.6957\n",
            "Epoch 29/50\n",
            "201/201 [==============================] - 0s 110us/sample - loss: 0.4975 - acc: 0.8159 - val_loss: 0.6839 - val_acc: 0.6957\n",
            "Epoch 30/50\n",
            "201/201 [==============================] - 0s 110us/sample - loss: 0.4902 - acc: 0.8209 - val_loss: 0.6774 - val_acc: 0.6957\n",
            "Epoch 31/50\n",
            "201/201 [==============================] - 0s 116us/sample - loss: 0.4829 - acc: 0.8209 - val_loss: 0.6756 - val_acc: 0.6522\n",
            "Epoch 32/50\n",
            "201/201 [==============================] - 0s 137us/sample - loss: 0.4761 - acc: 0.8259 - val_loss: 0.6674 - val_acc: 0.6957\n",
            "Epoch 33/50\n",
            "201/201 [==============================] - 0s 124us/sample - loss: 0.4693 - acc: 0.8259 - val_loss: 0.6635 - val_acc: 0.6522\n",
            "Epoch 34/50\n",
            "201/201 [==============================] - 0s 127us/sample - loss: 0.4631 - acc: 0.8408 - val_loss: 0.6579 - val_acc: 0.6957\n",
            "Epoch 35/50\n",
            "201/201 [==============================] - 0s 104us/sample - loss: 0.4574 - acc: 0.8408 - val_loss: 0.6519 - val_acc: 0.6957\n",
            "Epoch 36/50\n",
            "201/201 [==============================] - 0s 108us/sample - loss: 0.4511 - acc: 0.8408 - val_loss: 0.6440 - val_acc: 0.6957\n",
            "Epoch 37/50\n",
            "201/201 [==============================] - 0s 134us/sample - loss: 0.4456 - acc: 0.8408 - val_loss: 0.6382 - val_acc: 0.6957\n",
            "Epoch 38/50\n",
            "201/201 [==============================] - 0s 124us/sample - loss: 0.4403 - acc: 0.8408 - val_loss: 0.6366 - val_acc: 0.6957\n",
            "Epoch 39/50\n",
            "201/201 [==============================] - 0s 124us/sample - loss: 0.4352 - acc: 0.8408 - val_loss: 0.6322 - val_acc: 0.6957\n",
            "Epoch 40/50\n",
            "201/201 [==============================] - 0s 130us/sample - loss: 0.4302 - acc: 0.8408 - val_loss: 0.6276 - val_acc: 0.6957\n",
            "Epoch 41/50\n",
            "201/201 [==============================] - 0s 140us/sample - loss: 0.4245 - acc: 0.8507 - val_loss: 0.6282 - val_acc: 0.6522\n",
            "Epoch 42/50\n",
            "201/201 [==============================] - 0s 118us/sample - loss: 0.4197 - acc: 0.8408 - val_loss: 0.6223 - val_acc: 0.6957\n",
            "Epoch 43/50\n",
            "201/201 [==============================] - 0s 109us/sample - loss: 0.4153 - acc: 0.8458 - val_loss: 0.6155 - val_acc: 0.6957\n",
            "Epoch 44/50\n",
            "201/201 [==============================] - 0s 116us/sample - loss: 0.4105 - acc: 0.8458 - val_loss: 0.6121 - val_acc: 0.6957\n",
            "Epoch 45/50\n",
            "201/201 [==============================] - 0s 125us/sample - loss: 0.4063 - acc: 0.8458 - val_loss: 0.6120 - val_acc: 0.6957\n",
            "Epoch 46/50\n",
            "201/201 [==============================] - 0s 115us/sample - loss: 0.4027 - acc: 0.8458 - val_loss: 0.6057 - val_acc: 0.6957\n",
            "Epoch 47/50\n",
            "201/201 [==============================] - 0s 114us/sample - loss: 0.3979 - acc: 0.8458 - val_loss: 0.6057 - val_acc: 0.6957\n",
            "Epoch 48/50\n",
            "201/201 [==============================] - 0s 121us/sample - loss: 0.3945 - acc: 0.8507 - val_loss: 0.6104 - val_acc: 0.6522\n",
            "Epoch 49/50\n",
            "201/201 [==============================] - 0s 120us/sample - loss: 0.3906 - acc: 0.8557 - val_loss: 0.6077 - val_acc: 0.6522\n",
            "Epoch 50/50\n",
            "201/201 [==============================] - 0s 135us/sample - loss: 0.3872 - acc: 0.8557 - val_loss: 0.6076 - val_acc: 0.6522\n"
          ],
          "name": "stdout"
        },
        {
          "output_type": "execute_result",
          "data": {
            "text/plain": [
              "<tensorflow.python.keras.callbacks.History at 0x7fc494701278>"
            ]
          },
          "metadata": {
            "tags": []
          },
          "execution_count": 69
        }
      ]
    },
    {
      "cell_type": "code",
      "metadata": {
        "id": "THE2hOzfPhG3",
        "colab_type": "code",
        "colab": {
          "base_uri": "https://localhost:8080/",
          "height": 50
        },
        "outputId": "d0217fef-48bc-4245-acd9-77f58f9ab790"
      },
      "source": [
        "test_loss, test_accuracy = model_MLP.evaluate(x=X_test2, y=y_test2)\n",
        "print(test_loss, test_accuracy)"
      ],
      "execution_count": 70,
      "outputs": [
        {
          "output_type": "stream",
          "text": [
            "86/86 [==============================] - 0s 62us/sample - loss: 0.8280 - acc: 0.2791\n",
            "0.8279989729093951 0.27906978\n"
          ],
          "name": "stdout"
        }
      ]
    },
    {
      "cell_type": "code",
      "metadata": {
        "id": "ax8qspBoQUCr",
        "colab_type": "code",
        "colab": {}
      },
      "source": [
        ""
      ],
      "execution_count": 0,
      "outputs": []
    }
  ]
}