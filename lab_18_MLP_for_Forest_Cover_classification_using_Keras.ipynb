{
  "nbformat": 4,
  "nbformat_minor": 0,
  "metadata": {
    "colab": {
      "name": "lab_18 MLP for Forest Cover classification using Keras.ipynb",
      "provenance": [],
      "authorship_tag": "ABX9TyMDB32ZfR7e3dRYUTZP4Ltl"
    },
    "kernelspec": {
      "name": "python3",
      "display_name": "Python 3"
    }
  },
  "cells": [
    {
      "cell_type": "code",
      "metadata": {
        "id": "ErqpxSaPTyej",
        "colab_type": "code",
        "colab": {}
      },
      "source": [
        "import numpy as np\n",
        "import pandas as pd\n",
        "import matplotlib.pyplot as plt\n"
      ],
      "execution_count": 0,
      "outputs": []
    },
    {
      "cell_type": "code",
      "metadata": {
        "id": "bOuW9RklUF4V",
        "colab_type": "code",
        "colab": {}
      },
      "source": [
        "from sklearn.datasets import fetch_covtype\n",
        "import tensorflow as tf\n",
        "from tensorflow import keras"
      ],
      "execution_count": 0,
      "outputs": []
    },
    {
      "cell_type": "code",
      "metadata": {
        "id": "yL6BAn_xUMm4",
        "colab_type": "code",
        "colab": {}
      },
      "source": [
        "tf.set_random_seed(42)\n",
        "np.random.seed(42)"
      ],
      "execution_count": 0,
      "outputs": []
    },
    {
      "cell_type": "code",
      "metadata": {
        "id": "KOGyzihPUOMB",
        "colab_type": "code",
        "colab": {}
      },
      "source": [
        "X, y = fetch_covtype(return_X_y=True)\n",
        "from sklearn.model_selection import train_test_split"
      ],
      "execution_count": 0,
      "outputs": []
    },
    {
      "cell_type": "code",
      "metadata": {
        "id": "0OcGf-nkUcSP",
        "colab_type": "code",
        "colab": {}
      },
      "source": [
        "X_train, X_test, y_train, y_test = train_test_split(X, y, test_size=0.2,random_state=42)"
      ],
      "execution_count": 0,
      "outputs": []
    },
    {
      "cell_type": "code",
      "metadata": {
        "id": "wUqNYRhfUxYb",
        "colab_type": "code",
        "colab": {}
      },
      "source": [
        "from sklearn.preprocessing import StandardScaler\n",
        "sc = StandardScaler()\n"
      ],
      "execution_count": 0,
      "outputs": []
    },
    {
      "cell_type": "code",
      "metadata": {
        "id": "mwMFEGOZUyN4",
        "colab_type": "code",
        "colab": {}
      },
      "source": [
        "sc.fit(X_train)\n",
        "X_train_std = sc.transform(X_train)\n",
        "X_test_std = sc.transform(X_test)"
      ],
      "execution_count": 0,
      "outputs": []
    },
    {
      "cell_type": "code",
      "metadata": {
        "id": "cbMZB3jjU19Y",
        "colab_type": "code",
        "colab": {}
      },
      "source": [
        "model_MLP = keras.models.Sequential()\n"
      ],
      "execution_count": 0,
      "outputs": []
    },
    {
      "cell_type": "code",
      "metadata": {
        "id": "EbgwHWY_U39c",
        "colab_type": "code",
        "colab": {}
      },
      "source": [
        "model_MLP.add(keras.layers.Dense(units=25, activation='relu',input_shape= X_train.shape[1:]))\n",
        "model_MLP.add(keras.layers.Dense(units=10, activation='relu',input_shape= X_train.shape[1:]))\n"
      ],
      "execution_count": 0,
      "outputs": []
    },
    {
      "cell_type": "code",
      "metadata": {
        "id": "uLCuHBn5U6Tc",
        "colab_type": "code",
        "colab": {}
      },
      "source": [
        "model_MLP.add(keras.layers.Dense(units=8, activation='softmax'))"
      ],
      "execution_count": 0,
      "outputs": []
    },
    {
      "cell_type": "code",
      "metadata": {
        "id": "v1QipZYNU75R",
        "colab_type": "code",
        "outputId": "4679ed1e-a6b2-4cce-f876-d233c58aacc8",
        "colab": {
          "base_uri": "https://localhost:8080/",
          "height": 251
        }
      },
      "source": [
        "model_MLP.summary()"
      ],
      "execution_count": 35,
      "outputs": [
        {
          "output_type": "stream",
          "text": [
            "Model: \"sequential_1\"\n",
            "_________________________________________________________________\n",
            "Layer (type)                 Output Shape              Param #   \n",
            "=================================================================\n",
            "dense_6 (Dense)              (None, 25)                1375      \n",
            "_________________________________________________________________\n",
            "dense_7 (Dense)              (None, 10)                260       \n",
            "_________________________________________________________________\n",
            "dense_8 (Dense)              (None, 8)                 88        \n",
            "=================================================================\n",
            "Total params: 1,723\n",
            "Trainable params: 1,723\n",
            "Non-trainable params: 0\n",
            "_________________________________________________________________\n"
          ],
          "name": "stdout"
        }
      ]
    },
    {
      "cell_type": "code",
      "metadata": {
        "id": "ge4rpE7sU-QJ",
        "colab_type": "code",
        "colab": {}
      },
      "source": [
        "model_MLP.compile(loss='sparse_categorical_crossentropy',optimizer='adam', metrics=['accuracy'])\n"
      ],
      "execution_count": 0,
      "outputs": []
    },
    {
      "cell_type": "code",
      "metadata": {
        "id": "azx8pVyNVPc4",
        "colab_type": "code",
        "outputId": "5f66413f-2e43-4865-aa05-4274ece26476",
        "colab": {
          "base_uri": "https://localhost:8080/",
          "height": 217
        }
      },
      "source": [
        "\n",
        "model_MLP.fit(x=X_train_std, y=y_train, validation_split=0.1, epochs=5,batch_size=16)"
      ],
      "execution_count": 37,
      "outputs": [
        {
          "output_type": "stream",
          "text": [
            "Train on 418328 samples, validate on 46481 samples\n",
            "Epoch 1/5\n",
            "418328/418328 [==============================] - 47s 111us/sample - loss: 0.6023 - acc: 0.7451 - val_loss: 0.5504 - val_acc: 0.7666\n",
            "Epoch 2/5\n",
            "418328/418328 [==============================] - 46s 111us/sample - loss: 0.5339 - acc: 0.7728 - val_loss: 0.5201 - val_acc: 0.7803\n",
            "Epoch 3/5\n",
            "418328/418328 [==============================] - 46s 111us/sample - loss: 0.5132 - acc: 0.7812 - val_loss: 0.5073 - val_acc: 0.7850\n",
            "Epoch 4/5\n",
            "418328/418328 [==============================] - 46s 110us/sample - loss: 0.4995 - acc: 0.7864 - val_loss: 0.4955 - val_acc: 0.7913\n",
            "Epoch 5/5\n",
            "418328/418328 [==============================] - 46s 111us/sample - loss: 0.4907 - acc: 0.7911 - val_loss: 0.4833 - val_acc: 0.7960\n"
          ],
          "name": "stdout"
        },
        {
          "output_type": "execute_result",
          "data": {
            "text/plain": [
              "<tensorflow.python.keras.callbacks.History at 0x7fe2578ecdd8>"
            ]
          },
          "metadata": {
            "tags": []
          },
          "execution_count": 37
        }
      ]
    },
    {
      "cell_type": "code",
      "metadata": {
        "id": "ITuN6QX-Vf_j",
        "colab_type": "code",
        "outputId": "2da46114-d483-4ccb-c515-744ab8a570c9",
        "colab": {
          "base_uri": "https://localhost:8080/",
          "height": 50
        }
      },
      "source": [
        "test_loss, test_accuracy = model_MLP.evaluate(x=X_test_std, y=y_test)\n",
        "print(test_loss, test_accuracy)"
      ],
      "execution_count": 38,
      "outputs": [
        {
          "output_type": "stream",
          "text": [
            "116203/116203 [==============================] - 3s 25us/sample - loss: 0.4843 - acc: 0.7960\n",
            "0.4843076220709989 0.79601216\n"
          ],
          "name": "stdout"
        }
      ]
    },
    {
      "cell_type": "code",
      "metadata": {
        "id": "a-k_8FKJWhc6",
        "colab_type": "code",
        "colab": {}
      },
      "source": [
        ""
      ],
      "execution_count": 0,
      "outputs": []
    }
  ]
}