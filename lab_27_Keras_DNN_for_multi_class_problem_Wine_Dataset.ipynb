{
  "nbformat": 4,
  "nbformat_minor": 0,
  "metadata": {
    "colab": {
      "name": "lab_27 Keras DNN for multi-class problem - Wine Dataset.ipynb",
      "provenance": [],
      "authorship_tag": "ABX9TyPh7cTVJnUqjAZZc3LbfGMl"
    },
    "kernelspec": {
      "name": "python3",
      "display_name": "Python 3"
    }
  },
  "cells": [
    {
      "cell_type": "code",
      "metadata": {
        "id": "3LnvFK3iTG-s",
        "colab_type": "code",
        "colab": {}
      },
      "source": [
        "import numpy as np\n",
        "import pandas as pd\n",
        "import matplotlib.pyplot as plt"
      ],
      "execution_count": 0,
      "outputs": []
    },
    {
      "cell_type": "code",
      "metadata": {
        "id": "iA8E72kwv3Ei",
        "colab_type": "code",
        "colab": {}
      },
      "source": [
        "# Load the dataset from sklearn\n",
        "from sklearn.datasets import load_wine"
      ],
      "execution_count": 0,
      "outputs": []
    },
    {
      "cell_type": "code",
      "metadata": {
        "id": "VdoQ-W2jv9H9",
        "colab_type": "code",
        "colab": {}
      },
      "source": [
        "# Importing both TensorFlow and its high level API - Keras.\n",
        "import tensorflow.compat.v1 as tf\n",
        "from tensorflow import keras"
      ],
      "execution_count": 0,
      "outputs": []
    },
    {
      "cell_type": "code",
      "metadata": {
        "id": "nHaD7mGzv_bd",
        "colab_type": "code",
        "colab": {}
      },
      "source": [
        "# Setting the random seeds for repeatability\n",
        "tf.set_random_seed(42)\n",
        "np.random.seed(42)"
      ],
      "execution_count": 0,
      "outputs": []
    },
    {
      "cell_type": "code",
      "metadata": {
        "id": "sBPh14Ihwe7d",
        "colab_type": "code",
        "colab": {}
      },
      "source": [
        "# Loading the dataset\n",
        "wineData = load_wine()\n",
        "# Load the attributes and target in X and y\n",
        "X = wineData.data\n",
        "y = wineData.target"
      ],
      "execution_count": 0,
      "outputs": []
    },
    {
      "cell_type": "code",
      "metadata": {
        "id": "FroDf9wOwl_s",
        "colab_type": "code",
        "colab": {}
      },
      "source": [
        "# Split the data into 80% training and 20% testing\n",
        "from sklearn.model_selection import train_test_split\n",
        "X_train, X_test, y_train, y_test = train_test_split(X, y, test_size=0.2,stratify=y, random_state=42)"
      ],
      "execution_count": 0,
      "outputs": []
    },
    {
      "cell_type": "code",
      "metadata": {
        "id": "KqxOyJLHwpev",
        "colab_type": "code",
        "colab": {
          "base_uri": "https://localhost:8080/",
          "height": 34
        },
        "outputId": "923ccbe8-dfd5-49f4-abdc-643b59f53a9c"
      },
      "source": [
        "# Feature scaling using Standardization\n",
        "from sklearn.preprocessing import StandardScaler\n",
        "sc = StandardScaler()\n",
        "# Training the feature scaling parameters\n",
        "sc.fit(X_train)"
      ],
      "execution_count": 8,
      "outputs": [
        {
          "output_type": "execute_result",
          "data": {
            "text/plain": [
              "StandardScaler(copy=True, with_mean=True, with_std=True)"
            ]
          },
          "metadata": {
            "tags": []
          },
          "execution_count": 8
        }
      ]
    },
    {
      "cell_type": "code",
      "metadata": {
        "id": "oJCk9uUXwrhI",
        "colab_type": "code",
        "colab": {}
      },
      "source": [
        "# Applying transformations to both training and testing set\n",
        "X_train_std = sc.transform(X_train)\n",
        "X_test_std = sc.transform(X_test)"
      ],
      "execution_count": 0,
      "outputs": []
    },
    {
      "cell_type": "code",
      "metadata": {
        "id": "GgVvaripwsw1",
        "colab_type": "code",
        "colab": {
          "base_uri": "https://localhost:8080/",
          "height": 390
        },
        "outputId": "b3622af3-e783-44a8-b235-faaae8b78d61"
      },
      "source": [
        "# Create neural network using keras API\n",
        "# Sequential() does linear stacking of layers\n",
        "model_DNN = keras.models.Sequential()\n",
        "# Hidden layer definitions\n",
        "model_DNN.add(keras.layers.Dense(units=15, activation='relu', input_shape=\n",
        "X_train.shape[1:]))\n",
        "model_DNN.add(keras.layers.Dense(units=12, activation='relu'))\n",
        "model_DNN.add(keras.layers.Dense(units=8, activation='relu'))\n",
        "model_DNN.add(keras.layers.Dense(units=4, activation='relu'))\n",
        "# Output layer definitions\n",
        "model_DNN.add(keras.layers.Dense(units=3, activation='softmax'))\n",
        "# Print the summary of network architecture\n",
        "model_DNN.summary()"
      ],
      "execution_count": 10,
      "outputs": [
        {
          "output_type": "stream",
          "text": [
            "WARNING:tensorflow:From /usr/local/lib/python3.6/dist-packages/tensorflow_core/python/ops/resource_variable_ops.py:1630: calling BaseResourceVariable.__init__ (from tensorflow.python.ops.resource_variable_ops) with constraint is deprecated and will be removed in a future version.\n",
            "Instructions for updating:\n",
            "If using Keras pass *_constraint arguments to layers.\n",
            "Model: \"sequential\"\n",
            "_________________________________________________________________\n",
            "Layer (type)                 Output Shape              Param #   \n",
            "=================================================================\n",
            "dense (Dense)                (None, 15)                210       \n",
            "_________________________________________________________________\n",
            "dense_1 (Dense)              (None, 12)                192       \n",
            "_________________________________________________________________\n",
            "dense_2 (Dense)              (None, 8)                 104       \n",
            "_________________________________________________________________\n",
            "dense_3 (Dense)              (None, 4)                 36        \n",
            "_________________________________________________________________\n",
            "dense_4 (Dense)              (None, 3)                 15        \n",
            "=================================================================\n",
            "Total params: 557\n",
            "Trainable params: 557\n",
            "Non-trainable params: 0\n",
            "_________________________________________________________________\n"
          ],
          "name": "stdout"
        }
      ]
    },
    {
      "cell_type": "code",
      "metadata": {
        "id": "vSRkhtAQwvjR",
        "colab_type": "code",
        "colab": {}
      },
      "source": [
        "model_DNN.compile(loss='sparse_categorical_crossentropy',optimizer='adam', metrics=['accuracy'])"
      ],
      "execution_count": 0,
      "outputs": []
    },
    {
      "cell_type": "code",
      "metadata": {
        "id": "kY-kH8FNwyLJ",
        "colab_type": "code",
        "colab": {
          "base_uri": "https://localhost:8080/",
          "height": 1000
        },
        "outputId": "f2ea0d00-ee04-4c4c-c896-25b05ae75cce"
      },
      "source": [
        "model_DNN.fit(x=X_train_std, y=y_train, validation_split=0.1, epochs=50,batch_size=16)"
      ],
      "execution_count": 13,
      "outputs": [
        {
          "output_type": "stream",
          "text": [
            "Train on 127 samples, validate on 15 samples\n",
            "Epoch 1/50\n",
            "127/127 [==============================] - 0s 2ms/sample - loss: 1.0637 - acc: 0.5906 - val_loss: 1.1302 - val_acc: 0.4000\n",
            "Epoch 2/50\n",
            "127/127 [==============================] - 0s 213us/sample - loss: 1.0149 - acc: 0.6299 - val_loss: 1.0851 - val_acc: 0.4667\n",
            "Epoch 3/50\n",
            "127/127 [==============================] - 0s 153us/sample - loss: 0.9723 - acc: 0.6929 - val_loss: 1.0388 - val_acc: 0.5333\n",
            "Epoch 4/50\n",
            "127/127 [==============================] - 0s 153us/sample - loss: 0.9287 - acc: 0.7638 - val_loss: 0.9983 - val_acc: 0.6000\n",
            "Epoch 5/50\n",
            "127/127 [==============================] - 0s 164us/sample - loss: 0.8856 - acc: 0.7874 - val_loss: 0.9508 - val_acc: 0.6667\n",
            "Epoch 6/50\n",
            "127/127 [==============================] - 0s 154us/sample - loss: 0.8380 - acc: 0.7953 - val_loss: 0.8983 - val_acc: 0.6667\n",
            "Epoch 7/50\n",
            "127/127 [==============================] - 0s 165us/sample - loss: 0.7854 - acc: 0.8504 - val_loss: 0.8418 - val_acc: 0.8000\n",
            "Epoch 8/50\n",
            "127/127 [==============================] - 0s 135us/sample - loss: 0.7293 - acc: 0.8819 - val_loss: 0.7845 - val_acc: 0.8667\n",
            "Epoch 9/50\n",
            "127/127 [==============================] - 0s 138us/sample - loss: 0.6700 - acc: 0.8819 - val_loss: 0.7214 - val_acc: 0.9333\n",
            "Epoch 10/50\n",
            "127/127 [==============================] - 0s 144us/sample - loss: 0.6057 - acc: 0.9055 - val_loss: 0.6541 - val_acc: 0.9333\n",
            "Epoch 11/50\n",
            "127/127 [==============================] - 0s 169us/sample - loss: 0.5422 - acc: 0.9213 - val_loss: 0.5778 - val_acc: 0.9333\n",
            "Epoch 12/50\n",
            "127/127 [==============================] - 0s 181us/sample - loss: 0.4773 - acc: 0.9370 - val_loss: 0.5130 - val_acc: 0.9333\n",
            "Epoch 13/50\n",
            "127/127 [==============================] - 0s 179us/sample - loss: 0.4184 - acc: 0.9370 - val_loss: 0.4370 - val_acc: 1.0000\n",
            "Epoch 14/50\n",
            "127/127 [==============================] - 0s 213us/sample - loss: 0.3621 - acc: 0.9449 - val_loss: 0.3755 - val_acc: 1.0000\n",
            "Epoch 15/50\n",
            "127/127 [==============================] - 0s 160us/sample - loss: 0.3105 - acc: 0.9528 - val_loss: 0.3170 - val_acc: 1.0000\n",
            "Epoch 16/50\n",
            "127/127 [==============================] - 0s 146us/sample - loss: 0.2668 - acc: 0.9606 - val_loss: 0.2582 - val_acc: 1.0000\n",
            "Epoch 17/50\n",
            "127/127 [==============================] - 0s 139us/sample - loss: 0.2280 - acc: 0.9685 - val_loss: 0.2158 - val_acc: 1.0000\n",
            "Epoch 18/50\n",
            "127/127 [==============================] - 0s 170us/sample - loss: 0.1959 - acc: 0.9685 - val_loss: 0.1801 - val_acc: 1.0000\n",
            "Epoch 19/50\n",
            "127/127 [==============================] - 0s 172us/sample - loss: 0.1700 - acc: 0.9685 - val_loss: 0.1570 - val_acc: 1.0000\n",
            "Epoch 20/50\n",
            "127/127 [==============================] - 0s 186us/sample - loss: 0.1483 - acc: 0.9685 - val_loss: 0.1362 - val_acc: 1.0000\n",
            "Epoch 21/50\n",
            "127/127 [==============================] - 0s 172us/sample - loss: 0.1307 - acc: 0.9843 - val_loss: 0.1159 - val_acc: 1.0000\n",
            "Epoch 22/50\n",
            "127/127 [==============================] - 0s 150us/sample - loss: 0.1159 - acc: 0.9843 - val_loss: 0.1003 - val_acc: 1.0000\n",
            "Epoch 23/50\n",
            "127/127 [==============================] - 0s 156us/sample - loss: 0.1024 - acc: 0.9843 - val_loss: 0.0851 - val_acc: 1.0000\n",
            "Epoch 24/50\n",
            "127/127 [==============================] - 0s 165us/sample - loss: 0.0924 - acc: 0.9843 - val_loss: 0.0775 - val_acc: 1.0000\n",
            "Epoch 25/50\n",
            "127/127 [==============================] - 0s 169us/sample - loss: 0.0824 - acc: 0.9843 - val_loss: 0.0693 - val_acc: 1.0000\n",
            "Epoch 26/50\n",
            "127/127 [==============================] - 0s 164us/sample - loss: 0.0751 - acc: 0.9843 - val_loss: 0.0612 - val_acc: 1.0000\n",
            "Epoch 27/50\n",
            "127/127 [==============================] - 0s 152us/sample - loss: 0.0697 - acc: 0.9843 - val_loss: 0.0533 - val_acc: 1.0000\n",
            "Epoch 28/50\n",
            "127/127 [==============================] - 0s 165us/sample - loss: 0.0637 - acc: 0.9921 - val_loss: 0.0471 - val_acc: 1.0000\n",
            "Epoch 29/50\n",
            "127/127 [==============================] - 0s 145us/sample - loss: 0.0588 - acc: 0.9921 - val_loss: 0.0448 - val_acc: 1.0000\n",
            "Epoch 30/50\n",
            "127/127 [==============================] - 0s 144us/sample - loss: 0.0542 - acc: 0.9921 - val_loss: 0.0403 - val_acc: 1.0000\n",
            "Epoch 31/50\n",
            "127/127 [==============================] - 0s 147us/sample - loss: 0.0499 - acc: 0.9921 - val_loss: 0.0384 - val_acc: 1.0000\n",
            "Epoch 32/50\n",
            "127/127 [==============================] - 0s 151us/sample - loss: 0.0460 - acc: 0.9921 - val_loss: 0.0388 - val_acc: 1.0000\n",
            "Epoch 33/50\n",
            "127/127 [==============================] - 0s 147us/sample - loss: 0.0420 - acc: 0.9921 - val_loss: 0.0346 - val_acc: 1.0000\n",
            "Epoch 34/50\n",
            "127/127 [==============================] - 0s 150us/sample - loss: 0.0386 - acc: 0.9921 - val_loss: 0.0341 - val_acc: 1.0000\n",
            "Epoch 35/50\n",
            "127/127 [==============================] - 0s 173us/sample - loss: 0.0359 - acc: 0.9921 - val_loss: 0.0343 - val_acc: 1.0000\n",
            "Epoch 36/50\n",
            "127/127 [==============================] - 0s 173us/sample - loss: 0.0322 - acc: 0.9921 - val_loss: 0.0302 - val_acc: 1.0000\n",
            "Epoch 37/50\n",
            "127/127 [==============================] - 0s 159us/sample - loss: 0.0295 - acc: 0.9921 - val_loss: 0.0297 - val_acc: 1.0000\n",
            "Epoch 38/50\n",
            "127/127 [==============================] - 0s 142us/sample - loss: 0.0267 - acc: 0.9921 - val_loss: 0.0293 - val_acc: 1.0000\n",
            "Epoch 39/50\n",
            "127/127 [==============================] - 0s 149us/sample - loss: 0.0246 - acc: 0.9921 - val_loss: 0.0261 - val_acc: 1.0000\n",
            "Epoch 40/50\n",
            "127/127 [==============================] - 0s 153us/sample - loss: 0.0221 - acc: 0.9921 - val_loss: 0.0207 - val_acc: 1.0000\n",
            "Epoch 41/50\n",
            "127/127 [==============================] - 0s 162us/sample - loss: 0.0207 - acc: 1.0000 - val_loss: 0.0206 - val_acc: 1.0000\n",
            "Epoch 42/50\n",
            "127/127 [==============================] - 0s 183us/sample - loss: 0.0187 - acc: 1.0000 - val_loss: 0.0178 - val_acc: 1.0000\n",
            "Epoch 43/50\n",
            "127/127 [==============================] - 0s 175us/sample - loss: 0.0172 - acc: 1.0000 - val_loss: 0.0169 - val_acc: 1.0000\n",
            "Epoch 44/50\n",
            "127/127 [==============================] - 0s 157us/sample - loss: 0.0157 - acc: 1.0000 - val_loss: 0.0160 - val_acc: 1.0000\n",
            "Epoch 45/50\n",
            "127/127 [==============================] - 0s 142us/sample - loss: 0.0146 - acc: 1.0000 - val_loss: 0.0150 - val_acc: 1.0000\n",
            "Epoch 46/50\n",
            "127/127 [==============================] - 0s 142us/sample - loss: 0.0136 - acc: 1.0000 - val_loss: 0.0138 - val_acc: 1.0000\n",
            "Epoch 47/50\n",
            "127/127 [==============================] - 0s 163us/sample - loss: 0.0126 - acc: 1.0000 - val_loss: 0.0134 - val_acc: 1.0000\n",
            "Epoch 48/50\n",
            "127/127 [==============================] - 0s 148us/sample - loss: 0.0118 - acc: 1.0000 - val_loss: 0.0133 - val_acc: 1.0000\n",
            "Epoch 49/50\n",
            "127/127 [==============================] - 0s 137us/sample - loss: 0.0111 - acc: 1.0000 - val_loss: 0.0126 - val_acc: 1.0000\n",
            "Epoch 50/50\n",
            "127/127 [==============================] - 0s 143us/sample - loss: 0.0103 - acc: 1.0000 - val_loss: 0.0115 - val_acc: 1.0000\n"
          ],
          "name": "stdout"
        },
        {
          "output_type": "execute_result",
          "data": {
            "text/plain": [
              "<tensorflow.python.keras.callbacks.History at 0x7f23e3ffcd30>"
            ]
          },
          "metadata": {
            "tags": []
          },
          "execution_count": 13
        }
      ]
    },
    {
      "cell_type": "code",
      "metadata": {
        "id": "OG-RMRNSw1mn",
        "colab_type": "code",
        "colab": {
          "base_uri": "https://localhost:8080/",
          "height": 34
        },
        "outputId": "8851346c-511b-432c-9448-14522f7e5566"
      },
      "source": [
        "test_loss, test_accuracy = model_DNN.evaluate(x=X_test_std, y=y_test)"
      ],
      "execution_count": 14,
      "outputs": [
        {
          "output_type": "stream",
          "text": [
            "36/36 [==============================] - 0s 210us/sample - loss: 0.0920 - acc: 0.9167\n"
          ],
          "name": "stdout"
        }
      ]
    },
    {
      "cell_type": "code",
      "metadata": {
        "id": "9ITSAoJow5DV",
        "colab_type": "code",
        "colab": {
          "base_uri": "https://localhost:8080/",
          "height": 34
        },
        "outputId": "6d7e7062-e74d-4094-e772-eec84a086dd5"
      },
      "source": [
        "print(test_loss, test_accuracy)"
      ],
      "execution_count": 15,
      "outputs": [
        {
          "output_type": "stream",
          "text": [
            "0.09202521672058436 0.9166667\n"
          ],
          "name": "stdout"
        }
      ]
    },
    {
      "cell_type": "code",
      "metadata": {
        "id": "6OEx57ezw62r",
        "colab_type": "code",
        "colab": {}
      },
      "source": [
        ""
      ],
      "execution_count": 0,
      "outputs": []
    }
  ]
}