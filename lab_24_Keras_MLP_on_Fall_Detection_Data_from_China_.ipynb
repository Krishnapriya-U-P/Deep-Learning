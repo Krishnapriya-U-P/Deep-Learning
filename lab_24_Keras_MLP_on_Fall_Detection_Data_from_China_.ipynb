{
  "nbformat": 4,
  "nbformat_minor": 0,
  "metadata": {
    "colab": {
      "name": "lab_24 Keras MLP on Fall Detection Data from China .ipynb",
      "provenance": [],
      "authorship_tag": "ABX9TyOrMeoZfQakrxeNFGHFsGHI"
    },
    "kernelspec": {
      "name": "python3",
      "display_name": "Python 3"
    }
  },
  "cells": [
    {
      "cell_type": "code",
      "metadata": {
        "id": "VNsilAC-G-QZ",
        "colab_type": "code",
        "outputId": "2e4647ab-e572-4ff4-bfe1-71d76790660b",
        "colab": {
          "base_uri": "https://localhost:8080/",
          "height": 120
        }
      },
      "source": [
        "from google.colab import drive\n",
        "drive.mount('/content/drive')"
      ],
      "execution_count": 0,
      "outputs": [
        {
          "output_type": "stream",
          "text": [
            "Go to this URL in a browser: https://accounts.google.com/o/oauth2/auth?client_id=947318989803-6bn6qk8qdgf4n4g3pfee6491hc0brc4i.apps.googleusercontent.com&redirect_uri=urn%3aietf%3awg%3aoauth%3a2.0%3aoob&response_type=code&scope=email%20https%3a%2f%2fwww.googleapis.com%2fauth%2fdocs.test%20https%3a%2f%2fwww.googleapis.com%2fauth%2fdrive%20https%3a%2f%2fwww.googleapis.com%2fauth%2fdrive.photos.readonly%20https%3a%2f%2fwww.googleapis.com%2fauth%2fpeopleapi.readonly\n",
            "\n",
            "Enter your authorization code:\n",
            "··········\n",
            "Mounted at /content/drive\n"
          ],
          "name": "stdout"
        }
      ]
    },
    {
      "cell_type": "code",
      "metadata": {
        "id": "fq6UZGlTC2Cf",
        "colab_type": "code",
        "colab": {}
      },
      "source": [
        "import pandas as pd\n",
        "import numpy as np"
      ],
      "execution_count": 0,
      "outputs": []
    },
    {
      "cell_type": "code",
      "metadata": {
        "id": "3PllQoRSC3Sg",
        "colab_type": "code",
        "colab": {}
      },
      "source": [
        "data = pd.read_csv('/content/drive/My Drive/AI/Deep Learning/Datasets/falldetection.csv')"
      ],
      "execution_count": 0,
      "outputs": []
    },
    {
      "cell_type": "code",
      "metadata": {
        "id": "TDNZRPfRC4z8",
        "colab_type": "code",
        "outputId": "e2429eba-f426-4267-9ab6-1e3188f059f3",
        "colab": {
          "base_uri": "https://localhost:8080/",
          "height": 217
        }
      },
      "source": [
        "data.info()"
      ],
      "execution_count": 0,
      "outputs": [
        {
          "output_type": "stream",
          "text": [
            "<class 'pandas.core.frame.DataFrame'>\n",
            "RangeIndex: 16382 entries, 0 to 16381\n",
            "Data columns (total 7 columns):\n",
            "ACTIVITY       16382 non-null int64\n",
            "TIME           16382 non-null float64\n",
            "SL             16382 non-null float64\n",
            "EEG            16382 non-null float64\n",
            "BP             16382 non-null int64\n",
            "HR             16382 non-null int64\n",
            "CIRCLUATION    16382 non-null int64\n",
            "dtypes: float64(3), int64(4)\n",
            "memory usage: 896.0 KB\n"
          ],
          "name": "stdout"
        }
      ]
    },
    {
      "cell_type": "code",
      "metadata": {
        "id": "mvsPWSR6C5_l",
        "colab_type": "code",
        "colab": {}
      },
      "source": [
        "y=data['ACTIVITY']\n",
        "data.drop(['ACTIVITY'],axis=1,inplace=True)"
      ],
      "execution_count": 0,
      "outputs": []
    },
    {
      "cell_type": "code",
      "metadata": {
        "id": "GmSMFyYtDCH5",
        "colab_type": "code",
        "colab": {}
      },
      "source": [
        "from sklearn.model_selection import train_test_split\n",
        "X_train, X_test, y_train, y_test = train_test_split(data, y, test_size=0.2, stratify=y,random_state=42)"
      ],
      "execution_count": 0,
      "outputs": []
    },
    {
      "cell_type": "code",
      "metadata": {
        "id": "UjogVQYpDDoB",
        "colab_type": "code",
        "colab": {}
      },
      "source": [
        "from sklearn.preprocessing import StandardScaler\n",
        "sc = StandardScaler()"
      ],
      "execution_count": 0,
      "outputs": []
    },
    {
      "cell_type": "code",
      "metadata": {
        "id": "0_uaZz4fDIFN",
        "colab_type": "code",
        "colab": {}
      },
      "source": [
        "sc.fit(X_train)\n",
        "X_train_std = sc.transform(X_train)\n",
        "X_test_std = sc.transform(X_test)"
      ],
      "execution_count": 0,
      "outputs": []
    },
    {
      "cell_type": "code",
      "metadata": {
        "id": "x-zYPTWuDJVd",
        "colab_type": "code",
        "colab": {}
      },
      "source": [
        "import tensorflow.compat.v1 as tf\n",
        "from tensorflow import keras\n",
        "model_MLP = keras.models.Sequential()"
      ],
      "execution_count": 0,
      "outputs": []
    },
    {
      "cell_type": "code",
      "metadata": {
        "id": "mvZewuMrDLNo",
        "colab_type": "code",
        "colab": {}
      },
      "source": [
        "tf.set_random_seed(42)\n",
        "np.random.seed(42)"
      ],
      "execution_count": 0,
      "outputs": []
    },
    {
      "cell_type": "code",
      "metadata": {
        "id": "jjf2amI_Dafd",
        "colab_type": "code",
        "colab": {}
      },
      "source": [
        "model_MLP.add(keras.layers.Dense(units=20, activation='relu',input_shape= X_train.shape[1:]))\n",
        "model_MLP.add(keras.layers.Dense(units=10, activation='relu',input_shape= X_train.shape[1:]))"
      ],
      "execution_count": 0,
      "outputs": []
    },
    {
      "cell_type": "code",
      "metadata": {
        "id": "Bpucm5odDner",
        "colab_type": "code",
        "colab": {}
      },
      "source": [
        "model_MLP.add(keras.layers.Dense(units=8, activation='softmax'))"
      ],
      "execution_count": 0,
      "outputs": []
    },
    {
      "cell_type": "code",
      "metadata": {
        "id": "NJ8J2mnmDpDT",
        "colab_type": "code",
        "outputId": "c1bb37ab-97b3-4b18-c9c5-ad6c926c9155",
        "colab": {
          "base_uri": "https://localhost:8080/",
          "height": 251
        }
      },
      "source": [
        "model_MLP.summary()"
      ],
      "execution_count": 0,
      "outputs": [
        {
          "output_type": "stream",
          "text": [
            "Model: \"sequential_10\"\n",
            "_________________________________________________________________\n",
            "Layer (type)                 Output Shape              Param #   \n",
            "=================================================================\n",
            "dense_31 (Dense)             (None, 20)                140       \n",
            "_________________________________________________________________\n",
            "dense_32 (Dense)             (None, 10)                210       \n",
            "_________________________________________________________________\n",
            "dense_33 (Dense)             (None, 8)                 88        \n",
            "=================================================================\n",
            "Total params: 438\n",
            "Trainable params: 438\n",
            "Non-trainable params: 0\n",
            "_________________________________________________________________\n"
          ],
          "name": "stdout"
        }
      ]
    },
    {
      "cell_type": "code",
      "metadata": {
        "id": "3F3ouDVMDqNo",
        "colab_type": "code",
        "colab": {}
      },
      "source": [
        "model_MLP.compile(loss='sparse_categorical_crossentropy',optimizer='adam', metrics=['accuracy'])"
      ],
      "execution_count": 0,
      "outputs": []
    },
    {
      "cell_type": "code",
      "metadata": {
        "id": "x1B-jrpNDr-c",
        "colab_type": "code",
        "outputId": "7b24cd61-d2fa-4137-d8a2-fb42b78a7b8a",
        "colab": {
          "base_uri": "https://localhost:8080/",
          "height": 719
        }
      },
      "source": [
        "\n",
        "model_MLP.fit(x=X_train_std, y=y_train, validation_split=0.2, epochs=20,batch_size=16)"
      ],
      "execution_count": 0,
      "outputs": [
        {
          "output_type": "stream",
          "text": [
            "Train on 10484 samples, validate on 2621 samples\n",
            "Epoch 1/20\n",
            "10484/10484 [==============================] - 1s 103us/sample - loss: 1.3546 - acc: 0.4408 - val_loss: 1.3192 - val_acc: 0.4662\n",
            "Epoch 2/20\n",
            "10484/10484 [==============================] - 1s 100us/sample - loss: 1.3465 - acc: 0.4473 - val_loss: 1.3162 - val_acc: 0.4674\n",
            "Epoch 3/20\n",
            "10484/10484 [==============================] - 1s 105us/sample - loss: 1.3400 - acc: 0.4487 - val_loss: 1.3092 - val_acc: 0.4807\n",
            "Epoch 4/20\n",
            "10484/10484 [==============================] - 1s 108us/sample - loss: 1.3352 - acc: 0.4527 - val_loss: 1.3104 - val_acc: 0.4823\n",
            "Epoch 5/20\n",
            "10484/10484 [==============================] - 1s 106us/sample - loss: 1.3305 - acc: 0.4576 - val_loss: 1.3066 - val_acc: 0.4731\n",
            "Epoch 6/20\n",
            "10484/10484 [==============================] - 1s 104us/sample - loss: 1.3233 - acc: 0.4617 - val_loss: 1.2943 - val_acc: 0.4800\n",
            "Epoch 7/20\n",
            "10484/10484 [==============================] - 1s 110us/sample - loss: 1.3196 - acc: 0.4676 - val_loss: 1.2903 - val_acc: 0.4861\n",
            "Epoch 8/20\n",
            "10484/10484 [==============================] - 1s 112us/sample - loss: 1.3153 - acc: 0.4699 - val_loss: 1.2962 - val_acc: 0.4868\n",
            "Epoch 9/20\n",
            "10484/10484 [==============================] - 1s 107us/sample - loss: 1.3120 - acc: 0.4717 - val_loss: 1.2887 - val_acc: 0.4907\n",
            "Epoch 10/20\n",
            "10484/10484 [==============================] - 1s 106us/sample - loss: 1.3079 - acc: 0.4689 - val_loss: 1.3110 - val_acc: 0.4830\n",
            "Epoch 11/20\n",
            "10484/10484 [==============================] - 1s 108us/sample - loss: 1.3064 - acc: 0.4721 - val_loss: 1.2861 - val_acc: 0.4895\n",
            "Epoch 12/20\n",
            "10484/10484 [==============================] - 1s 109us/sample - loss: 1.3010 - acc: 0.4728 - val_loss: 1.2810 - val_acc: 0.4876\n",
            "Epoch 13/20\n",
            "10484/10484 [==============================] - 1s 112us/sample - loss: 1.2986 - acc: 0.4760 - val_loss: 1.2843 - val_acc: 0.4765\n",
            "Epoch 14/20\n",
            "10484/10484 [==============================] - 1s 107us/sample - loss: 1.2967 - acc: 0.4789 - val_loss: 1.2895 - val_acc: 0.4723\n",
            "Epoch 15/20\n",
            "10484/10484 [==============================] - 1s 104us/sample - loss: 1.2917 - acc: 0.4814 - val_loss: 1.2756 - val_acc: 0.4849\n",
            "Epoch 16/20\n",
            "10484/10484 [==============================] - 1s 107us/sample - loss: 1.2909 - acc: 0.4794 - val_loss: 1.2820 - val_acc: 0.4987\n",
            "Epoch 17/20\n",
            "10484/10484 [==============================] - 1s 111us/sample - loss: 1.2867 - acc: 0.4834 - val_loss: 1.2707 - val_acc: 0.4979\n",
            "Epoch 18/20\n",
            "10484/10484 [==============================] - 1s 113us/sample - loss: 1.2848 - acc: 0.4877 - val_loss: 1.2723 - val_acc: 0.4807\n",
            "Epoch 19/20\n",
            "10484/10484 [==============================] - 1s 104us/sample - loss: 1.2836 - acc: 0.4793 - val_loss: 1.2725 - val_acc: 0.4918\n",
            "Epoch 20/20\n",
            "10484/10484 [==============================] - 1s 102us/sample - loss: 1.2797 - acc: 0.4878 - val_loss: 1.2816 - val_acc: 0.4903\n"
          ],
          "name": "stdout"
        },
        {
          "output_type": "execute_result",
          "data": {
            "text/plain": [
              "<tensorflow.python.keras.callbacks.History at 0x7f5f7a36f630>"
            ]
          },
          "metadata": {
            "tags": []
          },
          "execution_count": 131
        }
      ]
    },
    {
      "cell_type": "code",
      "metadata": {
        "id": "yy5oCTVWDtXd",
        "colab_type": "code",
        "outputId": "b06bd500-b55e-46b6-d4e0-f0db7b8ef3ae",
        "colab": {
          "base_uri": "https://localhost:8080/",
          "height": 50
        }
      },
      "source": [
        "test_loss, test_accuracy = model_MLP.evaluate(x=X_test_std, y=y_test)\n",
        "print(test_loss, test_accuracy)"
      ],
      "execution_count": 0,
      "outputs": [
        {
          "output_type": "stream",
          "text": [
            "3277/3277 [==============================] - 0s 31us/sample - loss: 1.2853 - acc: 0.4980\n",
            "1.2852927309949478 0.49801648\n"
          ],
          "name": "stdout"
        }
      ]
    },
    {
      "cell_type": "code",
      "metadata": {
        "id": "qEobLoUjDvRE",
        "colab_type": "code",
        "colab": {}
      },
      "source": [
        ""
      ],
      "execution_count": 0,
      "outputs": []
    }
  ]
}