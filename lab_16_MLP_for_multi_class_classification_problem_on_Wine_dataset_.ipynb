{
  "nbformat": 4,
  "nbformat_minor": 0,
  "metadata": {
    "colab": {
      "name": "lab_16 MLP for multi-class classification problem on Wine dataset .ipynb",
      "provenance": [],
      "authorship_tag": "ABX9TyOmVJcebxVOk3Tjdeo+KSeD"
    },
    "kernelspec": {
      "name": "python3",
      "display_name": "Python 3"
    },
    "accelerator": "GPU"
  },
  "cells": [
    {
      "cell_type": "code",
      "metadata": {
        "id": "AHgbQIMLoXqK",
        "colab_type": "code",
        "colab": {}
      },
      "source": [
        "import numpy as np\n",
        "import pandas as pd\n",
        "import matplotlib.pyplot as plt\n",
        "# Load the dataset from sklearn\n",
        "from sklearn.datasets import load_wine"
      ],
      "execution_count": 0,
      "outputs": []
    },
    {
      "cell_type": "code",
      "metadata": {
        "id": "TCiGOdA-3lqA",
        "colab_type": "code",
        "colab": {
          "base_uri": "https://localhost:8080/",
          "height": 62
        },
        "outputId": "d40a6888-1399-4811-f972-5e7e84ae4044"
      },
      "source": [
        "import tensorflow as tf\n",
        "from tensorflow import keras"
      ],
      "execution_count": 2,
      "outputs": [
        {
          "output_type": "display_data",
          "data": {
            "text/html": [
              "<p style=\"color: red;\">\n",
              "The default version of TensorFlow in Colab will soon switch to TensorFlow 2.x.<br>\n",
              "We recommend you <a href=\"https://www.tensorflow.org/guide/migrate\" target=\"_blank\">upgrade</a> now \n",
              "or ensure your notebook will continue to use TensorFlow 1.x via the <code>%tensorflow_version 1.x</code> magic:\n",
              "<a href=\"https://colab.research.google.com/notebooks/tensorflow_version.ipynb\" target=\"_blank\">more info</a>.</p>\n"
            ],
            "text/plain": [
              "<IPython.core.display.HTML object>"
            ]
          },
          "metadata": {
            "tags": []
          }
        }
      ]
    },
    {
      "cell_type": "code",
      "metadata": {
        "id": "qc5yzkLa3tku",
        "colab_type": "code",
        "colab": {}
      },
      "source": [
        "tf.set_random_seed(42)\n",
        "np.random.seed(42)\n"
      ],
      "execution_count": 0,
      "outputs": []
    },
    {
      "cell_type": "code",
      "metadata": {
        "id": "MEQGdZ9u3vTj",
        "colab_type": "code",
        "colab": {}
      },
      "source": [
        "wineData = load_wine()"
      ],
      "execution_count": 0,
      "outputs": []
    },
    {
      "cell_type": "code",
      "metadata": {
        "id": "NYZf6Q3D3xrl",
        "colab_type": "code",
        "colab": {}
      },
      "source": [
        "X = wineData.data\n",
        "y = wineData.target"
      ],
      "execution_count": 0,
      "outputs": []
    },
    {
      "cell_type": "code",
      "metadata": {
        "id": "9Q0SJ_-h305f",
        "colab_type": "code",
        "colab": {}
      },
      "source": [
        "from sklearn.model_selection import train_test_split\n",
        "X_train, X_test, y_train, y_test = train_test_split(X, y, test_size=0.3,stratify=y, random_state=42)"
      ],
      "execution_count": 0,
      "outputs": []
    },
    {
      "cell_type": "code",
      "metadata": {
        "id": "YGGJO2r0326K",
        "colab_type": "code",
        "colab": {}
      },
      "source": [
        "from sklearn.preprocessing import StandardScaler\n",
        "sc = StandardScaler()\n"
      ],
      "execution_count": 0,
      "outputs": []
    },
    {
      "cell_type": "code",
      "metadata": {
        "id": "mRQCxqig36Cv",
        "colab_type": "code",
        "colab": {}
      },
      "source": [
        "# Training the feature scaling parameters\n",
        "sc.fit(X_train)\n",
        "# Applying transformations to both training and testing set\n",
        "X_train_std = sc.transform(X_train)\n",
        "X_test_std = sc.transform(X_test)"
      ],
      "execution_count": 0,
      "outputs": []
    },
    {
      "cell_type": "code",
      "metadata": {
        "id": "-3yunUyF38KM",
        "colab_type": "code",
        "outputId": "d5d586a8-59e1-4295-e589-c2c39977b459",
        "colab": {
          "base_uri": "https://localhost:8080/",
          "height": 288
        }
      },
      "source": [
        "# Create neural network using keras API\n",
        "# Sequential() does linear stacking of layers\n",
        "model_MLP = keras.models.Sequential()\n",
        "# Hidden layer definitions\n",
        "model_MLP.add(keras.layers.Dense(units=10, activation='relu',\n",
        " input_shape= X_train.shape[1:]))\n",
        "# Output layer definitions\n",
        "model_MLP.add(keras.layers.Dense(units=5, activation='softmax'))\n",
        "# Print the summary of network architecture\n",
        "model_MLP.summary()\n"
      ],
      "execution_count": 9,
      "outputs": [
        {
          "output_type": "stream",
          "text": [
            "WARNING:tensorflow:From /usr/local/lib/python3.6/dist-packages/tensorflow_core/python/ops/resource_variable_ops.py:1630: calling BaseResourceVariable.__init__ (from tensorflow.python.ops.resource_variable_ops) with constraint is deprecated and will be removed in a future version.\n",
            "Instructions for updating:\n",
            "If using Keras pass *_constraint arguments to layers.\n",
            "Model: \"sequential\"\n",
            "_________________________________________________________________\n",
            "Layer (type)                 Output Shape              Param #   \n",
            "=================================================================\n",
            "dense (Dense)                (None, 10)                140       \n",
            "_________________________________________________________________\n",
            "dense_1 (Dense)              (None, 5)                 55        \n",
            "=================================================================\n",
            "Total params: 195\n",
            "Trainable params: 195\n",
            "Non-trainable params: 0\n",
            "_________________________________________________________________\n"
          ],
          "name": "stdout"
        }
      ]
    },
    {
      "cell_type": "code",
      "metadata": {
        "id": "DdrO6Gmk3_ty",
        "colab_type": "code",
        "colab": {}
      },
      "source": [
        "model_MLP.compile(loss='sparse_categorical_crossentropy',optimizer='adam', metrics=['accuracy'])\n"
      ],
      "execution_count": 0,
      "outputs": []
    },
    {
      "cell_type": "code",
      "metadata": {
        "id": "WfxJ2FQj4DR4",
        "colab_type": "code",
        "outputId": "e0ed9645-7ff7-4076-b654-0ac6042c2e53",
        "colab": {
          "base_uri": "https://localhost:8080/",
          "height": 1000
        }
      },
      "source": [
        "model_MLP.fit(x=X_train_std, y=y_train, validation_split=0.1, epochs=50,batch_size=16)"
      ],
      "execution_count": 11,
      "outputs": [
        {
          "output_type": "stream",
          "text": [
            "Train on 111 samples, validate on 13 samples\n",
            "Epoch 1/50\n",
            "111/111 [==============================] - 2s 15ms/sample - loss: 1.6871 - acc: 0.2072 - val_loss: 1.8166 - val_acc: 0.0769\n",
            "Epoch 2/50\n",
            "111/111 [==============================] - 0s 170us/sample - loss: 1.6023 - acc: 0.2342 - val_loss: 1.7352 - val_acc: 0.0769\n",
            "Epoch 3/50\n",
            "111/111 [==============================] - 0s 173us/sample - loss: 1.5273 - acc: 0.2613 - val_loss: 1.6588 - val_acc: 0.0769\n",
            "Epoch 4/50\n",
            "111/111 [==============================] - 0s 162us/sample - loss: 1.4534 - acc: 0.2793 - val_loss: 1.5860 - val_acc: 0.0769\n",
            "Epoch 5/50\n",
            "111/111 [==============================] - 0s 145us/sample - loss: 1.3877 - acc: 0.3333 - val_loss: 1.5160 - val_acc: 0.0769\n",
            "Epoch 6/50\n",
            "111/111 [==============================] - 0s 135us/sample - loss: 1.3251 - acc: 0.3514 - val_loss: 1.4502 - val_acc: 0.1538\n",
            "Epoch 7/50\n",
            "111/111 [==============================] - 0s 143us/sample - loss: 1.2672 - acc: 0.3604 - val_loss: 1.3888 - val_acc: 0.1538\n",
            "Epoch 8/50\n",
            "111/111 [==============================] - 0s 144us/sample - loss: 1.2136 - acc: 0.3784 - val_loss: 1.3310 - val_acc: 0.3077\n",
            "Epoch 9/50\n",
            "111/111 [==============================] - 0s 143us/sample - loss: 1.1628 - acc: 0.3874 - val_loss: 1.2778 - val_acc: 0.3077\n",
            "Epoch 10/50\n",
            "111/111 [==============================] - 0s 137us/sample - loss: 1.1161 - acc: 0.4324 - val_loss: 1.2289 - val_acc: 0.3077\n",
            "Epoch 11/50\n",
            "111/111 [==============================] - 0s 218us/sample - loss: 1.0706 - acc: 0.4685 - val_loss: 1.1808 - val_acc: 0.3077\n",
            "Epoch 12/50\n",
            "111/111 [==============================] - 0s 143us/sample - loss: 1.0297 - acc: 0.4865 - val_loss: 1.1344 - val_acc: 0.3077\n",
            "Epoch 13/50\n",
            "111/111 [==============================] - 0s 145us/sample - loss: 0.9886 - acc: 0.4955 - val_loss: 1.0909 - val_acc: 0.3077\n",
            "Epoch 14/50\n",
            "111/111 [==============================] - 0s 150us/sample - loss: 0.9519 - acc: 0.4955 - val_loss: 1.0482 - val_acc: 0.3846\n",
            "Epoch 15/50\n",
            "111/111 [==============================] - 0s 151us/sample - loss: 0.9154 - acc: 0.5045 - val_loss: 1.0072 - val_acc: 0.3846\n",
            "Epoch 16/50\n",
            "111/111 [==============================] - 0s 155us/sample - loss: 0.8794 - acc: 0.5225 - val_loss: 0.9692 - val_acc: 0.3846\n",
            "Epoch 17/50\n",
            "111/111 [==============================] - 0s 164us/sample - loss: 0.8455 - acc: 0.5405 - val_loss: 0.9318 - val_acc: 0.4615\n",
            "Epoch 18/50\n",
            "111/111 [==============================] - 0s 148us/sample - loss: 0.8119 - acc: 0.5495 - val_loss: 0.8955 - val_acc: 0.4615\n",
            "Epoch 19/50\n",
            "111/111 [==============================] - 0s 134us/sample - loss: 0.7783 - acc: 0.5856 - val_loss: 0.8592 - val_acc: 0.6154\n",
            "Epoch 20/50\n",
            "111/111 [==============================] - 0s 148us/sample - loss: 0.7458 - acc: 0.6036 - val_loss: 0.8236 - val_acc: 0.6154\n",
            "Epoch 21/50\n",
            "111/111 [==============================] - 0s 137us/sample - loss: 0.7128 - acc: 0.6577 - val_loss: 0.7897 - val_acc: 0.6154\n",
            "Epoch 22/50\n",
            "111/111 [==============================] - 0s 143us/sample - loss: 0.6803 - acc: 0.7117 - val_loss: 0.7562 - val_acc: 0.6154\n",
            "Epoch 23/50\n",
            "111/111 [==============================] - 0s 138us/sample - loss: 0.6486 - acc: 0.7838 - val_loss: 0.7238 - val_acc: 0.7692\n",
            "Epoch 24/50\n",
            "111/111 [==============================] - 0s 166us/sample - loss: 0.6185 - acc: 0.8468 - val_loss: 0.6906 - val_acc: 0.8462\n",
            "Epoch 25/50\n",
            "111/111 [==============================] - 0s 167us/sample - loss: 0.5889 - acc: 0.8919 - val_loss: 0.6575 - val_acc: 0.8462\n",
            "Epoch 26/50\n",
            "111/111 [==============================] - 0s 171us/sample - loss: 0.5603 - acc: 0.9279 - val_loss: 0.6251 - val_acc: 0.8462\n",
            "Epoch 27/50\n",
            "111/111 [==============================] - 0s 173us/sample - loss: 0.5337 - acc: 0.9459 - val_loss: 0.5938 - val_acc: 1.0000\n",
            "Epoch 28/50\n",
            "111/111 [==============================] - 0s 174us/sample - loss: 0.5074 - acc: 0.9459 - val_loss: 0.5642 - val_acc: 1.0000\n",
            "Epoch 29/50\n",
            "111/111 [==============================] - 0s 161us/sample - loss: 0.4814 - acc: 0.9459 - val_loss: 0.5360 - val_acc: 1.0000\n",
            "Epoch 30/50\n",
            "111/111 [==============================] - 0s 148us/sample - loss: 0.4577 - acc: 0.9550 - val_loss: 0.5082 - val_acc: 1.0000\n",
            "Epoch 31/50\n",
            "111/111 [==============================] - 0s 147us/sample - loss: 0.4339 - acc: 0.9640 - val_loss: 0.4823 - val_acc: 1.0000\n",
            "Epoch 32/50\n",
            "111/111 [==============================] - 0s 141us/sample - loss: 0.4127 - acc: 0.9640 - val_loss: 0.4575 - val_acc: 1.0000\n",
            "Epoch 33/50\n",
            "111/111 [==============================] - 0s 135us/sample - loss: 0.3917 - acc: 0.9730 - val_loss: 0.4342 - val_acc: 1.0000\n",
            "Epoch 34/50\n",
            "111/111 [==============================] - 0s 137us/sample - loss: 0.3719 - acc: 0.9820 - val_loss: 0.4127 - val_acc: 1.0000\n",
            "Epoch 35/50\n",
            "111/111 [==============================] - 0s 144us/sample - loss: 0.3542 - acc: 0.9820 - val_loss: 0.3914 - val_acc: 1.0000\n",
            "Epoch 36/50\n",
            "111/111 [==============================] - 0s 155us/sample - loss: 0.3369 - acc: 0.9820 - val_loss: 0.3719 - val_acc: 1.0000\n",
            "Epoch 37/50\n",
            "111/111 [==============================] - 0s 166us/sample - loss: 0.3204 - acc: 0.9820 - val_loss: 0.3540 - val_acc: 1.0000\n",
            "Epoch 38/50\n",
            "111/111 [==============================] - 0s 160us/sample - loss: 0.3055 - acc: 0.9820 - val_loss: 0.3363 - val_acc: 1.0000\n",
            "Epoch 39/50\n",
            "111/111 [==============================] - 0s 204us/sample - loss: 0.2907 - acc: 0.9820 - val_loss: 0.3200 - val_acc: 1.0000\n",
            "Epoch 40/50\n",
            "111/111 [==============================] - 0s 175us/sample - loss: 0.2767 - acc: 0.9820 - val_loss: 0.3046 - val_acc: 1.0000\n",
            "Epoch 41/50\n",
            "111/111 [==============================] - 0s 149us/sample - loss: 0.2640 - acc: 0.9820 - val_loss: 0.2895 - val_acc: 1.0000\n",
            "Epoch 42/50\n",
            "111/111 [==============================] - 0s 144us/sample - loss: 0.2509 - acc: 0.9910 - val_loss: 0.2759 - val_acc: 1.0000\n",
            "Epoch 43/50\n",
            "111/111 [==============================] - 0s 155us/sample - loss: 0.2392 - acc: 0.9910 - val_loss: 0.2630 - val_acc: 1.0000\n",
            "Epoch 44/50\n",
            "111/111 [==============================] - 0s 156us/sample - loss: 0.2286 - acc: 0.9910 - val_loss: 0.2503 - val_acc: 1.0000\n",
            "Epoch 45/50\n",
            "111/111 [==============================] - 0s 169us/sample - loss: 0.2181 - acc: 0.9910 - val_loss: 0.2384 - val_acc: 1.0000\n",
            "Epoch 46/50\n",
            "111/111 [==============================] - 0s 152us/sample - loss: 0.2081 - acc: 0.9910 - val_loss: 0.2275 - val_acc: 1.0000\n",
            "Epoch 47/50\n",
            "111/111 [==============================] - 0s 152us/sample - loss: 0.1991 - acc: 1.0000 - val_loss: 0.2171 - val_acc: 1.0000\n",
            "Epoch 48/50\n",
            "111/111 [==============================] - 0s 204us/sample - loss: 0.1900 - acc: 1.0000 - val_loss: 0.2076 - val_acc: 1.0000\n",
            "Epoch 49/50\n",
            "111/111 [==============================] - 0s 139us/sample - loss: 0.1820 - acc: 1.0000 - val_loss: 0.1983 - val_acc: 1.0000\n",
            "Epoch 50/50\n",
            "111/111 [==============================] - 0s 158us/sample - loss: 0.1740 - acc: 1.0000 - val_loss: 0.1897 - val_acc: 1.0000\n"
          ],
          "name": "stdout"
        },
        {
          "output_type": "execute_result",
          "data": {
            "text/plain": [
              "<tensorflow.python.keras.callbacks.History at 0x7ffa1a7c6b38>"
            ]
          },
          "metadata": {
            "tags": []
          },
          "execution_count": 11
        }
      ]
    },
    {
      "cell_type": "code",
      "metadata": {
        "id": "HmX9UwN24G_k",
        "colab_type": "code",
        "outputId": "6221ec98-623f-4255-9746-a35c70b1eb21",
        "colab": {
          "base_uri": "https://localhost:8080/",
          "height": 33
        }
      },
      "source": [
        "test_loss, test_accuracy = model_MLP.evaluate(x=X_test_std, y=y_test)\n"
      ],
      "execution_count": 12,
      "outputs": [
        {
          "output_type": "stream",
          "text": [
            "54/54 [==============================] - 0s 102us/sample - loss: 0.2232 - acc: 0.9815\n"
          ],
          "name": "stdout"
        }
      ]
    },
    {
      "cell_type": "code",
      "metadata": {
        "id": "RNNvBhTg4JVx",
        "colab_type": "code",
        "outputId": "d2c7b84f-a0bd-441f-f60f-0dc83cbee80a",
        "colab": {
          "base_uri": "https://localhost:8080/",
          "height": 33
        }
      },
      "source": [
        "print(test_loss, test_accuracy)\n"
      ],
      "execution_count": 13,
      "outputs": [
        {
          "output_type": "stream",
          "text": [
            "0.22322052717208862 0.9814815\n"
          ],
          "name": "stdout"
        }
      ]
    },
    {
      "cell_type": "code",
      "metadata": {
        "id": "cdhn3aFT4LTh",
        "colab_type": "code",
        "colab": {}
      },
      "source": [
        ""
      ],
      "execution_count": 0,
      "outputs": []
    }
  ]
}