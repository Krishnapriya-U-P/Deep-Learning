{
  "nbformat": 4,
  "nbformat_minor": 0,
  "metadata": {
    "colab": {
      "name": "lab_6 cost_function MSE and MAE.ipynb",
      "provenance": []
    },
    "kernelspec": {
      "name": "python3",
      "display_name": "Python 3"
    }
  },
  "cells": [
    {
      "cell_type": "code",
      "metadata": {
        "id": "R3dphaMCzCT6",
        "colab_type": "code",
        "colab": {}
      },
      "source": [
        "from sklearn.metrics import mean_squared_error"
      ],
      "execution_count": 0,
      "outputs": []
    },
    {
      "cell_type": "code",
      "metadata": {
        "id": "oC2x5dMPza99",
        "colab_type": "code",
        "colab": {}
      },
      "source": [
        "y_true = [3, -0.5, 2, 7] \n",
        "y_pred = [2.5, 0.0, 2, 8]"
      ],
      "execution_count": 0,
      "outputs": []
    },
    {
      "cell_type": "code",
      "metadata": {
        "id": "4Sf6gcdLzmCH",
        "colab_type": "code",
        "colab": {}
      },
      "source": [
        "mse = mean_squared_error(y_true, y_pred) "
      ],
      "execution_count": 0,
      "outputs": []
    },
    {
      "cell_type": "code",
      "metadata": {
        "id": "6qVMedhfzqPs",
        "colab_type": "code",
        "outputId": "359c09ac-c786-40cd-ad76-0687ac23cef0",
        "colab": {
          "base_uri": "https://localhost:8080/",
          "height": 50
        }
      },
      "source": [
        "print(\"MSE: %f\\n\" % mse)"
      ],
      "execution_count": 4,
      "outputs": [
        {
          "output_type": "stream",
          "text": [
            "MSE: 0.375000\n",
            "\n"
          ],
          "name": "stdout"
        }
      ]
    },
    {
      "cell_type": "code",
      "metadata": {
        "id": "iiups8UAzsf5",
        "colab_type": "code",
        "outputId": "7178d71f-6641-480a-b25d-79f19ccbdb23",
        "colab": {
          "base_uri": "https://localhost:8080/",
          "height": 50
        }
      },
      "source": [
        "y_true = [[0.5, 1],[-1, 1],[7, -6]] \n",
        "y_pred = [[0, 2],[-1, 2],[8, -5]] \n",
        "mse = mean_squared_error(y_true, y_pred)  \n",
        "print(\"MSE: %f\\n\" % mse) "
      ],
      "execution_count": 5,
      "outputs": [
        {
          "output_type": "stream",
          "text": [
            "MSE: 0.708333\n",
            "\n"
          ],
          "name": "stdout"
        }
      ]
    },
    {
      "cell_type": "code",
      "metadata": {
        "id": "JUYDmiHo0HTo",
        "colab_type": "code",
        "outputId": "0520c55e-19cb-4e61-ccfe-bca4aaf29239",
        "colab": {
          "base_uri": "https://localhost:8080/",
          "height": 33
        }
      },
      "source": [
        "print(mse)"
      ],
      "execution_count": 6,
      "outputs": [
        {
          "output_type": "stream",
          "text": [
            "0.7083333333333334\n"
          ],
          "name": "stdout"
        }
      ]
    },
    {
      "cell_type": "code",
      "metadata": {
        "id": "Z0epS_-K0OFs",
        "colab_type": "code",
        "outputId": "c3aeb6f1-6ffc-4412-d04b-eb66f7b52637",
        "colab": {
          "base_uri": "https://localhost:8080/",
          "height": 50
        }
      },
      "source": [
        "mse = mean_squared_error(y_true, y_pred, multioutput='raw_values') \n",
        "print(\"MSE: {}\\n\".format(mse))"
      ],
      "execution_count": 7,
      "outputs": [
        {
          "output_type": "stream",
          "text": [
            "MSE: [0.41666667 1.        ]\n",
            "\n"
          ],
          "name": "stdout"
        }
      ]
    },
    {
      "cell_type": "code",
      "metadata": {
        "id": "2ctrLmwd0Wgo",
        "colab_type": "code",
        "outputId": "6ffc3e39-4e88-44d1-ed68-4653f07c2079",
        "colab": {
          "base_uri": "https://localhost:8080/",
          "height": 50
        }
      },
      "source": [
        "mse = mean_squared_error(y_true, y_pred, multioutput=[0.3, 0.7]) \n",
        "print(\"MSE: %f\\n\" % mse)"
      ],
      "execution_count": 8,
      "outputs": [
        {
          "output_type": "stream",
          "text": [
            "MSE: 0.825000\n",
            "\n"
          ],
          "name": "stdout"
        }
      ]
    },
    {
      "cell_type": "code",
      "metadata": {
        "id": "fax5xdgo0h1S",
        "colab_type": "code",
        "colab": {}
      },
      "source": [
        "from sklearn.metrics import mean_absolute_error"
      ],
      "execution_count": 0,
      "outputs": []
    },
    {
      "cell_type": "code",
      "metadata": {
        "id": "RSaTG1y60tMF",
        "colab_type": "code",
        "colab": {}
      },
      "source": [
        "mae=mean_absolute_error(y_true,y_pred)"
      ],
      "execution_count": 0,
      "outputs": []
    },
    {
      "cell_type": "code",
      "metadata": {
        "id": "4wLu1KLT01r_",
        "colab_type": "code",
        "outputId": "050d3435-0896-4bca-f537-52806e65ea05",
        "colab": {
          "base_uri": "https://localhost:8080/",
          "height": 33
        }
      },
      "source": [
        "print(mae)"
      ],
      "execution_count": 11,
      "outputs": [
        {
          "output_type": "stream",
          "text": [
            "0.75\n"
          ],
          "name": "stdout"
        }
      ]
    },
    {
      "cell_type": "code",
      "metadata": {
        "id": "3khpiMGQ022a",
        "colab_type": "code",
        "colab": {}
      },
      "source": [
        ""
      ],
      "execution_count": 0,
      "outputs": []
    }
  ]
}